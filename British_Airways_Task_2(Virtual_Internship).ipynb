{
  "nbformat": 4,
  "nbformat_minor": 0,
  "metadata": {
    "colab": {
      "provenance": [],
      "include_colab_link": true
    },
    "kernelspec": {
      "name": "python3",
      "display_name": "Python 3"
    },
    "language_info": {
      "name": "python"
    },
    "widgets": {
      "application/vnd.jupyter.widget-state+json": {
        "ab079867cad84a19bbb286e096c79db6": {
          "model_module": "@jupyter-widgets/controls",
          "model_name": "HBoxModel",
          "model_module_version": "1.5.0",
          "state": {
            "_dom_classes": [],
            "_model_module": "@jupyter-widgets/controls",
            "_model_module_version": "1.5.0",
            "_model_name": "HBoxModel",
            "_view_count": null,
            "_view_module": "@jupyter-widgets/controls",
            "_view_module_version": "1.5.0",
            "_view_name": "HBoxView",
            "box_style": "",
            "children": [
              "IPY_MODEL_92e7d9deff61476d9434b4079367c442",
              "IPY_MODEL_a23ef47c99b043668b53629a32676602",
              "IPY_MODEL_3ef1a33e88a94b799539c02714960143"
            ],
            "layout": "IPY_MODEL_7ac6463ab9f94268bbcd3a3516837715"
          }
        },
        "92e7d9deff61476d9434b4079367c442": {
          "model_module": "@jupyter-widgets/controls",
          "model_name": "HTMLModel",
          "model_module_version": "1.5.0",
          "state": {
            "_dom_classes": [],
            "_model_module": "@jupyter-widgets/controls",
            "_model_module_version": "1.5.0",
            "_model_name": "HTMLModel",
            "_view_count": null,
            "_view_module": "@jupyter-widgets/controls",
            "_view_module_version": "1.5.0",
            "_view_name": "HTMLView",
            "description": "",
            "description_tooltip": null,
            "layout": "IPY_MODEL_53ae48776b12445f8dd812ad6f54894d",
            "placeholder": "​",
            "style": "IPY_MODEL_a006a497c1a442eea9501d40a35d8f74",
            "value": "Processing: 100%"
          }
        },
        "a23ef47c99b043668b53629a32676602": {
          "model_module": "@jupyter-widgets/controls",
          "model_name": "FloatProgressModel",
          "model_module_version": "1.5.0",
          "state": {
            "_dom_classes": [],
            "_model_module": "@jupyter-widgets/controls",
            "_model_module_version": "1.5.0",
            "_model_name": "FloatProgressModel",
            "_view_count": null,
            "_view_module": "@jupyter-widgets/controls",
            "_view_module_version": "1.5.0",
            "_view_name": "ProgressView",
            "bar_style": "",
            "description": "",
            "description_tooltip": null,
            "layout": "IPY_MODEL_4e4549a0826e4fe2a342d7af55c9b1a9",
            "max": 61,
            "min": 0,
            "orientation": "horizontal",
            "style": "IPY_MODEL_c6266d10542b4ef8946c03880637fba9",
            "value": 61
          }
        },
        "3ef1a33e88a94b799539c02714960143": {
          "model_module": "@jupyter-widgets/controls",
          "model_name": "HTMLModel",
          "model_module_version": "1.5.0",
          "state": {
            "_dom_classes": [],
            "_model_module": "@jupyter-widgets/controls",
            "_model_module_version": "1.5.0",
            "_model_name": "HTMLModel",
            "_view_count": null,
            "_view_module": "@jupyter-widgets/controls",
            "_view_module_version": "1.5.0",
            "_view_name": "HTMLView",
            "description": "",
            "description_tooltip": null,
            "layout": "IPY_MODEL_fc3801868c2e4d05b0e0fba6c123097d",
            "placeholder": "​",
            "style": "IPY_MODEL_27f9bc1a69db4c48a2eebfb1523375fb",
            "value": " 61/61 [04:09&lt;00:00,  1.10it/s]"
          }
        },
        "7ac6463ab9f94268bbcd3a3516837715": {
          "model_module": "@jupyter-widgets/base",
          "model_name": "LayoutModel",
          "model_module_version": "1.2.0",
          "state": {
            "_model_module": "@jupyter-widgets/base",
            "_model_module_version": "1.2.0",
            "_model_name": "LayoutModel",
            "_view_count": null,
            "_view_module": "@jupyter-widgets/base",
            "_view_module_version": "1.2.0",
            "_view_name": "LayoutView",
            "align_content": null,
            "align_items": null,
            "align_self": null,
            "border": null,
            "bottom": null,
            "display": null,
            "flex": null,
            "flex_flow": null,
            "grid_area": null,
            "grid_auto_columns": null,
            "grid_auto_flow": null,
            "grid_auto_rows": null,
            "grid_column": null,
            "grid_gap": null,
            "grid_row": null,
            "grid_template_areas": null,
            "grid_template_columns": null,
            "grid_template_rows": null,
            "height": null,
            "justify_content": null,
            "justify_items": null,
            "left": null,
            "margin": null,
            "max_height": null,
            "max_width": null,
            "min_height": null,
            "min_width": null,
            "object_fit": null,
            "object_position": null,
            "order": null,
            "overflow": null,
            "overflow_x": null,
            "overflow_y": null,
            "padding": null,
            "right": null,
            "top": null,
            "visibility": "hidden",
            "width": null
          }
        },
        "53ae48776b12445f8dd812ad6f54894d": {
          "model_module": "@jupyter-widgets/base",
          "model_name": "LayoutModel",
          "model_module_version": "1.2.0",
          "state": {
            "_model_module": "@jupyter-widgets/base",
            "_model_module_version": "1.2.0",
            "_model_name": "LayoutModel",
            "_view_count": null,
            "_view_module": "@jupyter-widgets/base",
            "_view_module_version": "1.2.0",
            "_view_name": "LayoutView",
            "align_content": null,
            "align_items": null,
            "align_self": null,
            "border": null,
            "bottom": null,
            "display": null,
            "flex": null,
            "flex_flow": null,
            "grid_area": null,
            "grid_auto_columns": null,
            "grid_auto_flow": null,
            "grid_auto_rows": null,
            "grid_column": null,
            "grid_gap": null,
            "grid_row": null,
            "grid_template_areas": null,
            "grid_template_columns": null,
            "grid_template_rows": null,
            "height": null,
            "justify_content": null,
            "justify_items": null,
            "left": null,
            "margin": null,
            "max_height": null,
            "max_width": null,
            "min_height": null,
            "min_width": null,
            "object_fit": null,
            "object_position": null,
            "order": null,
            "overflow": null,
            "overflow_x": null,
            "overflow_y": null,
            "padding": null,
            "right": null,
            "top": null,
            "visibility": null,
            "width": null
          }
        },
        "a006a497c1a442eea9501d40a35d8f74": {
          "model_module": "@jupyter-widgets/controls",
          "model_name": "DescriptionStyleModel",
          "model_module_version": "1.5.0",
          "state": {
            "_model_module": "@jupyter-widgets/controls",
            "_model_module_version": "1.5.0",
            "_model_name": "DescriptionStyleModel",
            "_view_count": null,
            "_view_module": "@jupyter-widgets/base",
            "_view_module_version": "1.2.0",
            "_view_name": "StyleView",
            "description_width": ""
          }
        },
        "4e4549a0826e4fe2a342d7af55c9b1a9": {
          "model_module": "@jupyter-widgets/base",
          "model_name": "LayoutModel",
          "model_module_version": "1.2.0",
          "state": {
            "_model_module": "@jupyter-widgets/base",
            "_model_module_version": "1.2.0",
            "_model_name": "LayoutModel",
            "_view_count": null,
            "_view_module": "@jupyter-widgets/base",
            "_view_module_version": "1.2.0",
            "_view_name": "LayoutView",
            "align_content": null,
            "align_items": null,
            "align_self": null,
            "border": null,
            "bottom": null,
            "display": null,
            "flex": null,
            "flex_flow": null,
            "grid_area": null,
            "grid_auto_columns": null,
            "grid_auto_flow": null,
            "grid_auto_rows": null,
            "grid_column": null,
            "grid_gap": null,
            "grid_row": null,
            "grid_template_areas": null,
            "grid_template_columns": null,
            "grid_template_rows": null,
            "height": null,
            "justify_content": null,
            "justify_items": null,
            "left": null,
            "margin": null,
            "max_height": null,
            "max_width": null,
            "min_height": null,
            "min_width": null,
            "object_fit": null,
            "object_position": null,
            "order": null,
            "overflow": null,
            "overflow_x": null,
            "overflow_y": null,
            "padding": null,
            "right": null,
            "top": null,
            "visibility": null,
            "width": null
          }
        },
        "c6266d10542b4ef8946c03880637fba9": {
          "model_module": "@jupyter-widgets/controls",
          "model_name": "ProgressStyleModel",
          "model_module_version": "1.5.0",
          "state": {
            "_model_module": "@jupyter-widgets/controls",
            "_model_module_version": "1.5.0",
            "_model_name": "ProgressStyleModel",
            "_view_count": null,
            "_view_module": "@jupyter-widgets/base",
            "_view_module_version": "1.2.0",
            "_view_name": "StyleView",
            "bar_color": null,
            "description_width": ""
          }
        },
        "fc3801868c2e4d05b0e0fba6c123097d": {
          "model_module": "@jupyter-widgets/base",
          "model_name": "LayoutModel",
          "model_module_version": "1.2.0",
          "state": {
            "_model_module": "@jupyter-widgets/base",
            "_model_module_version": "1.2.0",
            "_model_name": "LayoutModel",
            "_view_count": null,
            "_view_module": "@jupyter-widgets/base",
            "_view_module_version": "1.2.0",
            "_view_name": "LayoutView",
            "align_content": null,
            "align_items": null,
            "align_self": null,
            "border": null,
            "bottom": null,
            "display": null,
            "flex": null,
            "flex_flow": null,
            "grid_area": null,
            "grid_auto_columns": null,
            "grid_auto_flow": null,
            "grid_auto_rows": null,
            "grid_column": null,
            "grid_gap": null,
            "grid_row": null,
            "grid_template_areas": null,
            "grid_template_columns": null,
            "grid_template_rows": null,
            "height": null,
            "justify_content": null,
            "justify_items": null,
            "left": null,
            "margin": null,
            "max_height": null,
            "max_width": null,
            "min_height": null,
            "min_width": null,
            "object_fit": null,
            "object_position": null,
            "order": null,
            "overflow": null,
            "overflow_x": null,
            "overflow_y": null,
            "padding": null,
            "right": null,
            "top": null,
            "visibility": null,
            "width": null
          }
        },
        "27f9bc1a69db4c48a2eebfb1523375fb": {
          "model_module": "@jupyter-widgets/controls",
          "model_name": "DescriptionStyleModel",
          "model_module_version": "1.5.0",
          "state": {
            "_model_module": "@jupyter-widgets/controls",
            "_model_module_version": "1.5.0",
            "_model_name": "DescriptionStyleModel",
            "_view_count": null,
            "_view_module": "@jupyter-widgets/base",
            "_view_module_version": "1.2.0",
            "_view_name": "StyleView",
            "description_width": ""
          }
        },
        "6645f557721d4140ac5c582ca99386a2": {
          "model_module": "@jupyter-widgets/controls",
          "model_name": "HBoxModel",
          "model_module_version": "1.5.0",
          "state": {
            "_dom_classes": [],
            "_model_module": "@jupyter-widgets/controls",
            "_model_module_version": "1.5.0",
            "_model_name": "HBoxModel",
            "_view_count": null,
            "_view_module": "@jupyter-widgets/controls",
            "_view_module_version": "1.5.0",
            "_view_name": "HBoxView",
            "box_style": "",
            "children": [
              "IPY_MODEL_377abd62d9544bd89f618d3eb533ea1e",
              "IPY_MODEL_817f4299699645a8839038cb598cdf0c",
              "IPY_MODEL_e54453c0cac141ceb536b9dd0c0d3810"
            ],
            "layout": "IPY_MODEL_7cdbc9bbadb042b5b59b3d9b2b900521"
          }
        },
        "377abd62d9544bd89f618d3eb533ea1e": {
          "model_module": "@jupyter-widgets/controls",
          "model_name": "HTMLModel",
          "model_module_version": "1.5.0",
          "state": {
            "_dom_classes": [],
            "_model_module": "@jupyter-widgets/controls",
            "_model_module_version": "1.5.0",
            "_model_name": "HTMLModel",
            "_view_count": null,
            "_view_module": "@jupyter-widgets/controls",
            "_view_module_version": "1.5.0",
            "_view_name": "HTMLView",
            "description": "",
            "description_tooltip": null,
            "layout": "IPY_MODEL_f486e7334b084ca798c49bf997fc76c4",
            "placeholder": "​",
            "style": "IPY_MODEL_a54945e126574809bc804f40aeed56a1",
            "value": "Processing: 100%"
          }
        },
        "817f4299699645a8839038cb598cdf0c": {
          "model_module": "@jupyter-widgets/controls",
          "model_name": "FloatProgressModel",
          "model_module_version": "1.5.0",
          "state": {
            "_dom_classes": [],
            "_model_module": "@jupyter-widgets/controls",
            "_model_module_version": "1.5.0",
            "_model_name": "FloatProgressModel",
            "_view_count": null,
            "_view_module": "@jupyter-widgets/controls",
            "_view_module_version": "1.5.0",
            "_view_name": "ProgressView",
            "bar_style": "",
            "description": "",
            "description_tooltip": null,
            "layout": "IPY_MODEL_f2d4af028b074781821c9cc34d1bc8f6",
            "max": 4,
            "min": 0,
            "orientation": "horizontal",
            "style": "IPY_MODEL_3d2c67c6bd9c4960a0c5732c33f6653f",
            "value": 4
          }
        },
        "e54453c0cac141ceb536b9dd0c0d3810": {
          "model_module": "@jupyter-widgets/controls",
          "model_name": "HTMLModel",
          "model_module_version": "1.5.0",
          "state": {
            "_dom_classes": [],
            "_model_module": "@jupyter-widgets/controls",
            "_model_module_version": "1.5.0",
            "_model_name": "HTMLModel",
            "_view_count": null,
            "_view_module": "@jupyter-widgets/controls",
            "_view_module_version": "1.5.0",
            "_view_name": "HTMLView",
            "description": "",
            "description_tooltip": null,
            "layout": "IPY_MODEL_9030ca2155d44ee592825cddd5cb9d42",
            "placeholder": "​",
            "style": "IPY_MODEL_fedf81e064c24e2bb5e224baacf8a760",
            "value": " 4/4 [00:03&lt;00:00,  1.32it/s]"
          }
        },
        "7cdbc9bbadb042b5b59b3d9b2b900521": {
          "model_module": "@jupyter-widgets/base",
          "model_name": "LayoutModel",
          "model_module_version": "1.2.0",
          "state": {
            "_model_module": "@jupyter-widgets/base",
            "_model_module_version": "1.2.0",
            "_model_name": "LayoutModel",
            "_view_count": null,
            "_view_module": "@jupyter-widgets/base",
            "_view_module_version": "1.2.0",
            "_view_name": "LayoutView",
            "align_content": null,
            "align_items": null,
            "align_self": null,
            "border": null,
            "bottom": null,
            "display": null,
            "flex": null,
            "flex_flow": null,
            "grid_area": null,
            "grid_auto_columns": null,
            "grid_auto_flow": null,
            "grid_auto_rows": null,
            "grid_column": null,
            "grid_gap": null,
            "grid_row": null,
            "grid_template_areas": null,
            "grid_template_columns": null,
            "grid_template_rows": null,
            "height": null,
            "justify_content": null,
            "justify_items": null,
            "left": null,
            "margin": null,
            "max_height": null,
            "max_width": null,
            "min_height": null,
            "min_width": null,
            "object_fit": null,
            "object_position": null,
            "order": null,
            "overflow": null,
            "overflow_x": null,
            "overflow_y": null,
            "padding": null,
            "right": null,
            "top": null,
            "visibility": "hidden",
            "width": null
          }
        },
        "f486e7334b084ca798c49bf997fc76c4": {
          "model_module": "@jupyter-widgets/base",
          "model_name": "LayoutModel",
          "model_module_version": "1.2.0",
          "state": {
            "_model_module": "@jupyter-widgets/base",
            "_model_module_version": "1.2.0",
            "_model_name": "LayoutModel",
            "_view_count": null,
            "_view_module": "@jupyter-widgets/base",
            "_view_module_version": "1.2.0",
            "_view_name": "LayoutView",
            "align_content": null,
            "align_items": null,
            "align_self": null,
            "border": null,
            "bottom": null,
            "display": null,
            "flex": null,
            "flex_flow": null,
            "grid_area": null,
            "grid_auto_columns": null,
            "grid_auto_flow": null,
            "grid_auto_rows": null,
            "grid_column": null,
            "grid_gap": null,
            "grid_row": null,
            "grid_template_areas": null,
            "grid_template_columns": null,
            "grid_template_rows": null,
            "height": null,
            "justify_content": null,
            "justify_items": null,
            "left": null,
            "margin": null,
            "max_height": null,
            "max_width": null,
            "min_height": null,
            "min_width": null,
            "object_fit": null,
            "object_position": null,
            "order": null,
            "overflow": null,
            "overflow_x": null,
            "overflow_y": null,
            "padding": null,
            "right": null,
            "top": null,
            "visibility": null,
            "width": null
          }
        },
        "a54945e126574809bc804f40aeed56a1": {
          "model_module": "@jupyter-widgets/controls",
          "model_name": "DescriptionStyleModel",
          "model_module_version": "1.5.0",
          "state": {
            "_model_module": "@jupyter-widgets/controls",
            "_model_module_version": "1.5.0",
            "_model_name": "DescriptionStyleModel",
            "_view_count": null,
            "_view_module": "@jupyter-widgets/base",
            "_view_module_version": "1.2.0",
            "_view_name": "StyleView",
            "description_width": ""
          }
        },
        "f2d4af028b074781821c9cc34d1bc8f6": {
          "model_module": "@jupyter-widgets/base",
          "model_name": "LayoutModel",
          "model_module_version": "1.2.0",
          "state": {
            "_model_module": "@jupyter-widgets/base",
            "_model_module_version": "1.2.0",
            "_model_name": "LayoutModel",
            "_view_count": null,
            "_view_module": "@jupyter-widgets/base",
            "_view_module_version": "1.2.0",
            "_view_name": "LayoutView",
            "align_content": null,
            "align_items": null,
            "align_self": null,
            "border": null,
            "bottom": null,
            "display": null,
            "flex": null,
            "flex_flow": null,
            "grid_area": null,
            "grid_auto_columns": null,
            "grid_auto_flow": null,
            "grid_auto_rows": null,
            "grid_column": null,
            "grid_gap": null,
            "grid_row": null,
            "grid_template_areas": null,
            "grid_template_columns": null,
            "grid_template_rows": null,
            "height": null,
            "justify_content": null,
            "justify_items": null,
            "left": null,
            "margin": null,
            "max_height": null,
            "max_width": null,
            "min_height": null,
            "min_width": null,
            "object_fit": null,
            "object_position": null,
            "order": null,
            "overflow": null,
            "overflow_x": null,
            "overflow_y": null,
            "padding": null,
            "right": null,
            "top": null,
            "visibility": null,
            "width": null
          }
        },
        "3d2c67c6bd9c4960a0c5732c33f6653f": {
          "model_module": "@jupyter-widgets/controls",
          "model_name": "ProgressStyleModel",
          "model_module_version": "1.5.0",
          "state": {
            "_model_module": "@jupyter-widgets/controls",
            "_model_module_version": "1.5.0",
            "_model_name": "ProgressStyleModel",
            "_view_count": null,
            "_view_module": "@jupyter-widgets/base",
            "_view_module_version": "1.2.0",
            "_view_name": "StyleView",
            "bar_color": null,
            "description_width": ""
          }
        },
        "9030ca2155d44ee592825cddd5cb9d42": {
          "model_module": "@jupyter-widgets/base",
          "model_name": "LayoutModel",
          "model_module_version": "1.2.0",
          "state": {
            "_model_module": "@jupyter-widgets/base",
            "_model_module_version": "1.2.0",
            "_model_name": "LayoutModel",
            "_view_count": null,
            "_view_module": "@jupyter-widgets/base",
            "_view_module_version": "1.2.0",
            "_view_name": "LayoutView",
            "align_content": null,
            "align_items": null,
            "align_self": null,
            "border": null,
            "bottom": null,
            "display": null,
            "flex": null,
            "flex_flow": null,
            "grid_area": null,
            "grid_auto_columns": null,
            "grid_auto_flow": null,
            "grid_auto_rows": null,
            "grid_column": null,
            "grid_gap": null,
            "grid_row": null,
            "grid_template_areas": null,
            "grid_template_columns": null,
            "grid_template_rows": null,
            "height": null,
            "justify_content": null,
            "justify_items": null,
            "left": null,
            "margin": null,
            "max_height": null,
            "max_width": null,
            "min_height": null,
            "min_width": null,
            "object_fit": null,
            "object_position": null,
            "order": null,
            "overflow": null,
            "overflow_x": null,
            "overflow_y": null,
            "padding": null,
            "right": null,
            "top": null,
            "visibility": null,
            "width": null
          }
        },
        "fedf81e064c24e2bb5e224baacf8a760": {
          "model_module": "@jupyter-widgets/controls",
          "model_name": "DescriptionStyleModel",
          "model_module_version": "1.5.0",
          "state": {
            "_model_module": "@jupyter-widgets/controls",
            "_model_module_version": "1.5.0",
            "_model_name": "DescriptionStyleModel",
            "_view_count": null,
            "_view_module": "@jupyter-widgets/base",
            "_view_module_version": "1.2.0",
            "_view_name": "StyleView",
            "description_width": ""
          }
        },
        "b418a918b0a54c4799ecf01cd86a04c4": {
          "model_module": "@jupyter-widgets/controls",
          "model_name": "HBoxModel",
          "model_module_version": "1.5.0",
          "state": {
            "_dom_classes": [],
            "_model_module": "@jupyter-widgets/controls",
            "_model_module_version": "1.5.0",
            "_model_name": "HBoxModel",
            "_view_count": null,
            "_view_module": "@jupyter-widgets/controls",
            "_view_module_version": "1.5.0",
            "_view_name": "HBoxView",
            "box_style": "",
            "children": [
              "IPY_MODEL_59bc2f8e9061479da584bca070267f40",
              "IPY_MODEL_8c6d9944a52a4dba8e585b2ced049301",
              "IPY_MODEL_22557db872d24a11a703d0c5bab0f30f"
            ],
            "layout": "IPY_MODEL_141e3b8b2f50494e8f997372e045db9b"
          }
        },
        "59bc2f8e9061479da584bca070267f40": {
          "model_module": "@jupyter-widgets/controls",
          "model_name": "HTMLModel",
          "model_module_version": "1.5.0",
          "state": {
            "_dom_classes": [],
            "_model_module": "@jupyter-widgets/controls",
            "_model_module_version": "1.5.0",
            "_model_name": "HTMLModel",
            "_view_count": null,
            "_view_module": "@jupyter-widgets/controls",
            "_view_module_version": "1.5.0",
            "_view_name": "HTMLView",
            "description": "",
            "description_tooltip": null,
            "layout": "IPY_MODEL_1361f25bb85944298ad9694852a5e022",
            "placeholder": "​",
            "style": "IPY_MODEL_c0641e12844c462480d6496990a680a7",
            "value": "Processing: 100%"
          }
        },
        "8c6d9944a52a4dba8e585b2ced049301": {
          "model_module": "@jupyter-widgets/controls",
          "model_name": "FloatProgressModel",
          "model_module_version": "1.5.0",
          "state": {
            "_dom_classes": [],
            "_model_module": "@jupyter-widgets/controls",
            "_model_module_version": "1.5.0",
            "_model_name": "FloatProgressModel",
            "_view_count": null,
            "_view_module": "@jupyter-widgets/controls",
            "_view_module_version": "1.5.0",
            "_view_name": "ProgressView",
            "bar_style": "",
            "description": "",
            "description_tooltip": null,
            "layout": "IPY_MODEL_5de1dc43014b48b9822519974b23eb9f",
            "max": 7,
            "min": 0,
            "orientation": "horizontal",
            "style": "IPY_MODEL_1c3cfa70e13e471cb376b77ef69435e5",
            "value": 7
          }
        },
        "22557db872d24a11a703d0c5bab0f30f": {
          "model_module": "@jupyter-widgets/controls",
          "model_name": "HTMLModel",
          "model_module_version": "1.5.0",
          "state": {
            "_dom_classes": [],
            "_model_module": "@jupyter-widgets/controls",
            "_model_module_version": "1.5.0",
            "_model_name": "HTMLModel",
            "_view_count": null,
            "_view_module": "@jupyter-widgets/controls",
            "_view_module_version": "1.5.0",
            "_view_name": "HTMLView",
            "description": "",
            "description_tooltip": null,
            "layout": "IPY_MODEL_ee2197e5a6bb405ab8baaa07f774ef4f",
            "placeholder": "​",
            "style": "IPY_MODEL_286af3067b7142ccbfedbcecd7919856",
            "value": " 7/7 [00:34&lt;00:00,  3.92s/it]"
          }
        },
        "141e3b8b2f50494e8f997372e045db9b": {
          "model_module": "@jupyter-widgets/base",
          "model_name": "LayoutModel",
          "model_module_version": "1.2.0",
          "state": {
            "_model_module": "@jupyter-widgets/base",
            "_model_module_version": "1.2.0",
            "_model_name": "LayoutModel",
            "_view_count": null,
            "_view_module": "@jupyter-widgets/base",
            "_view_module_version": "1.2.0",
            "_view_name": "LayoutView",
            "align_content": null,
            "align_items": null,
            "align_self": null,
            "border": null,
            "bottom": null,
            "display": null,
            "flex": null,
            "flex_flow": null,
            "grid_area": null,
            "grid_auto_columns": null,
            "grid_auto_flow": null,
            "grid_auto_rows": null,
            "grid_column": null,
            "grid_gap": null,
            "grid_row": null,
            "grid_template_areas": null,
            "grid_template_columns": null,
            "grid_template_rows": null,
            "height": null,
            "justify_content": null,
            "justify_items": null,
            "left": null,
            "margin": null,
            "max_height": null,
            "max_width": null,
            "min_height": null,
            "min_width": null,
            "object_fit": null,
            "object_position": null,
            "order": null,
            "overflow": null,
            "overflow_x": null,
            "overflow_y": null,
            "padding": null,
            "right": null,
            "top": null,
            "visibility": "hidden",
            "width": null
          }
        },
        "1361f25bb85944298ad9694852a5e022": {
          "model_module": "@jupyter-widgets/base",
          "model_name": "LayoutModel",
          "model_module_version": "1.2.0",
          "state": {
            "_model_module": "@jupyter-widgets/base",
            "_model_module_version": "1.2.0",
            "_model_name": "LayoutModel",
            "_view_count": null,
            "_view_module": "@jupyter-widgets/base",
            "_view_module_version": "1.2.0",
            "_view_name": "LayoutView",
            "align_content": null,
            "align_items": null,
            "align_self": null,
            "border": null,
            "bottom": null,
            "display": null,
            "flex": null,
            "flex_flow": null,
            "grid_area": null,
            "grid_auto_columns": null,
            "grid_auto_flow": null,
            "grid_auto_rows": null,
            "grid_column": null,
            "grid_gap": null,
            "grid_row": null,
            "grid_template_areas": null,
            "grid_template_columns": null,
            "grid_template_rows": null,
            "height": null,
            "justify_content": null,
            "justify_items": null,
            "left": null,
            "margin": null,
            "max_height": null,
            "max_width": null,
            "min_height": null,
            "min_width": null,
            "object_fit": null,
            "object_position": null,
            "order": null,
            "overflow": null,
            "overflow_x": null,
            "overflow_y": null,
            "padding": null,
            "right": null,
            "top": null,
            "visibility": null,
            "width": null
          }
        },
        "c0641e12844c462480d6496990a680a7": {
          "model_module": "@jupyter-widgets/controls",
          "model_name": "DescriptionStyleModel",
          "model_module_version": "1.5.0",
          "state": {
            "_model_module": "@jupyter-widgets/controls",
            "_model_module_version": "1.5.0",
            "_model_name": "DescriptionStyleModel",
            "_view_count": null,
            "_view_module": "@jupyter-widgets/base",
            "_view_module_version": "1.2.0",
            "_view_name": "StyleView",
            "description_width": ""
          }
        },
        "5de1dc43014b48b9822519974b23eb9f": {
          "model_module": "@jupyter-widgets/base",
          "model_name": "LayoutModel",
          "model_module_version": "1.2.0",
          "state": {
            "_model_module": "@jupyter-widgets/base",
            "_model_module_version": "1.2.0",
            "_model_name": "LayoutModel",
            "_view_count": null,
            "_view_module": "@jupyter-widgets/base",
            "_view_module_version": "1.2.0",
            "_view_name": "LayoutView",
            "align_content": null,
            "align_items": null,
            "align_self": null,
            "border": null,
            "bottom": null,
            "display": null,
            "flex": null,
            "flex_flow": null,
            "grid_area": null,
            "grid_auto_columns": null,
            "grid_auto_flow": null,
            "grid_auto_rows": null,
            "grid_column": null,
            "grid_gap": null,
            "grid_row": null,
            "grid_template_areas": null,
            "grid_template_columns": null,
            "grid_template_rows": null,
            "height": null,
            "justify_content": null,
            "justify_items": null,
            "left": null,
            "margin": null,
            "max_height": null,
            "max_width": null,
            "min_height": null,
            "min_width": null,
            "object_fit": null,
            "object_position": null,
            "order": null,
            "overflow": null,
            "overflow_x": null,
            "overflow_y": null,
            "padding": null,
            "right": null,
            "top": null,
            "visibility": null,
            "width": null
          }
        },
        "1c3cfa70e13e471cb376b77ef69435e5": {
          "model_module": "@jupyter-widgets/controls",
          "model_name": "ProgressStyleModel",
          "model_module_version": "1.5.0",
          "state": {
            "_model_module": "@jupyter-widgets/controls",
            "_model_module_version": "1.5.0",
            "_model_name": "ProgressStyleModel",
            "_view_count": null,
            "_view_module": "@jupyter-widgets/base",
            "_view_module_version": "1.2.0",
            "_view_name": "StyleView",
            "bar_color": null,
            "description_width": ""
          }
        },
        "ee2197e5a6bb405ab8baaa07f774ef4f": {
          "model_module": "@jupyter-widgets/base",
          "model_name": "LayoutModel",
          "model_module_version": "1.2.0",
          "state": {
            "_model_module": "@jupyter-widgets/base",
            "_model_module_version": "1.2.0",
            "_model_name": "LayoutModel",
            "_view_count": null,
            "_view_module": "@jupyter-widgets/base",
            "_view_module_version": "1.2.0",
            "_view_name": "LayoutView",
            "align_content": null,
            "align_items": null,
            "align_self": null,
            "border": null,
            "bottom": null,
            "display": null,
            "flex": null,
            "flex_flow": null,
            "grid_area": null,
            "grid_auto_columns": null,
            "grid_auto_flow": null,
            "grid_auto_rows": null,
            "grid_column": null,
            "grid_gap": null,
            "grid_row": null,
            "grid_template_areas": null,
            "grid_template_columns": null,
            "grid_template_rows": null,
            "height": null,
            "justify_content": null,
            "justify_items": null,
            "left": null,
            "margin": null,
            "max_height": null,
            "max_width": null,
            "min_height": null,
            "min_width": null,
            "object_fit": null,
            "object_position": null,
            "order": null,
            "overflow": null,
            "overflow_x": null,
            "overflow_y": null,
            "padding": null,
            "right": null,
            "top": null,
            "visibility": null,
            "width": null
          }
        },
        "286af3067b7142ccbfedbcecd7919856": {
          "model_module": "@jupyter-widgets/controls",
          "model_name": "DescriptionStyleModel",
          "model_module_version": "1.5.0",
          "state": {
            "_model_module": "@jupyter-widgets/controls",
            "_model_module_version": "1.5.0",
            "_model_name": "DescriptionStyleModel",
            "_view_count": null,
            "_view_module": "@jupyter-widgets/base",
            "_view_module_version": "1.2.0",
            "_view_name": "StyleView",
            "description_width": ""
          }
        },
        "4de710ec34bf4406920c30e401c291ea": {
          "model_module": "@jupyter-widgets/controls",
          "model_name": "VBoxModel",
          "model_module_version": "1.5.0",
          "state": {
            "_dom_classes": [
              "widget-interact"
            ],
            "_model_module": "@jupyter-widgets/controls",
            "_model_module_version": "1.5.0",
            "_model_name": "VBoxModel",
            "_view_count": null,
            "_view_module": "@jupyter-widgets/controls",
            "_view_module_version": "1.5.0",
            "_view_name": "VBoxView",
            "box_style": "",
            "children": [
              "IPY_MODEL_ef4d76f1d0e34594b03da65300e71e1c",
              "IPY_MODEL_0d551f868bc74d9c8baad0da864eca61"
            ],
            "layout": "IPY_MODEL_154e8402078e4845a98d44e24fc79c56"
          }
        },
        "ef4d76f1d0e34594b03da65300e71e1c": {
          "model_module": "@jupyter-widgets/controls",
          "model_name": "ToggleButtonsModel",
          "model_module_version": "1.5.0",
          "state": {
            "_dom_classes": [],
            "_model_module": "@jupyter-widgets/controls",
            "_model_module_version": "1.5.0",
            "_model_name": "ToggleButtonsModel",
            "_options_labels": [
              "Pipeline Plot",
              "Hyperparameters",
              "AUC",
              "Confusion Matrix",
              "Threshold",
              "Precision Recall",
              "Prediction Error",
              "Class Report",
              "Feature Selection",
              "Learning Curve",
              "Manifold Learning",
              "Calibration Curve",
              "Validation Curve",
              "Dimensions",
              "Feature Importance",
              "Feature Importance (All)",
              "Decision Boundary",
              "Lift Chart",
              "Gain Chart",
              "Decision Tree",
              "KS Statistic Plot"
            ],
            "_view_count": null,
            "_view_module": "@jupyter-widgets/controls",
            "_view_module_version": "1.5.0",
            "_view_name": "ToggleButtonsView",
            "button_style": "",
            "description": "Plot Type:",
            "description_tooltip": null,
            "disabled": false,
            "icons": [
              ""
            ],
            "index": 3,
            "layout": "IPY_MODEL_9b7a7e096ccf43468328b83e52cfae06",
            "style": "IPY_MODEL_f259f294ea0e494faaec1ef6e9df4fb4",
            "tooltips": []
          }
        },
        "0d551f868bc74d9c8baad0da864eca61": {
          "model_module": "@jupyter-widgets/output",
          "model_name": "OutputModel",
          "model_module_version": "1.0.0",
          "state": {
            "_dom_classes": [],
            "_model_module": "@jupyter-widgets/output",
            "_model_module_version": "1.0.0",
            "_model_name": "OutputModel",
            "_view_count": null,
            "_view_module": "@jupyter-widgets/output",
            "_view_module_version": "1.0.0",
            "_view_name": "OutputView",
            "layout": "IPY_MODEL_bbee9701bbb248d89c6ca69f9d93cc70",
            "msg_id": "",
            "outputs": [
              {
                "output_type": "display_data",
                "data": {
                  "text/plain": "<Figure size 432x288 with 1 Axes>",
                  "image/png": "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\n"
                },
                "metadata": {
                  "needs_background": "light"
                }
              }
            ]
          }
        },
        "154e8402078e4845a98d44e24fc79c56": {
          "model_module": "@jupyter-widgets/base",
          "model_name": "LayoutModel",
          "model_module_version": "1.2.0",
          "state": {
            "_model_module": "@jupyter-widgets/base",
            "_model_module_version": "1.2.0",
            "_model_name": "LayoutModel",
            "_view_count": null,
            "_view_module": "@jupyter-widgets/base",
            "_view_module_version": "1.2.0",
            "_view_name": "LayoutView",
            "align_content": null,
            "align_items": null,
            "align_self": null,
            "border": null,
            "bottom": null,
            "display": null,
            "flex": null,
            "flex_flow": null,
            "grid_area": null,
            "grid_auto_columns": null,
            "grid_auto_flow": null,
            "grid_auto_rows": null,
            "grid_column": null,
            "grid_gap": null,
            "grid_row": null,
            "grid_template_areas": null,
            "grid_template_columns": null,
            "grid_template_rows": null,
            "height": null,
            "justify_content": null,
            "justify_items": null,
            "left": null,
            "margin": null,
            "max_height": null,
            "max_width": null,
            "min_height": null,
            "min_width": null,
            "object_fit": null,
            "object_position": null,
            "order": null,
            "overflow": null,
            "overflow_x": null,
            "overflow_y": null,
            "padding": null,
            "right": null,
            "top": null,
            "visibility": null,
            "width": null
          }
        },
        "9b7a7e096ccf43468328b83e52cfae06": {
          "model_module": "@jupyter-widgets/base",
          "model_name": "LayoutModel",
          "model_module_version": "1.2.0",
          "state": {
            "_model_module": "@jupyter-widgets/base",
            "_model_module_version": "1.2.0",
            "_model_name": "LayoutModel",
            "_view_count": null,
            "_view_module": "@jupyter-widgets/base",
            "_view_module_version": "1.2.0",
            "_view_name": "LayoutView",
            "align_content": null,
            "align_items": null,
            "align_self": null,
            "border": null,
            "bottom": null,
            "display": null,
            "flex": null,
            "flex_flow": null,
            "grid_area": null,
            "grid_auto_columns": null,
            "grid_auto_flow": null,
            "grid_auto_rows": null,
            "grid_column": null,
            "grid_gap": null,
            "grid_row": null,
            "grid_template_areas": null,
            "grid_template_columns": null,
            "grid_template_rows": null,
            "height": null,
            "justify_content": null,
            "justify_items": null,
            "left": null,
            "margin": null,
            "max_height": null,
            "max_width": null,
            "min_height": null,
            "min_width": null,
            "object_fit": null,
            "object_position": null,
            "order": null,
            "overflow": null,
            "overflow_x": null,
            "overflow_y": null,
            "padding": null,
            "right": null,
            "top": null,
            "visibility": null,
            "width": null
          }
        },
        "f259f294ea0e494faaec1ef6e9df4fb4": {
          "model_module": "@jupyter-widgets/controls",
          "model_name": "ToggleButtonsStyleModel",
          "model_module_version": "1.5.0",
          "state": {
            "_model_module": "@jupyter-widgets/controls",
            "_model_module_version": "1.5.0",
            "_model_name": "ToggleButtonsStyleModel",
            "_view_count": null,
            "_view_module": "@jupyter-widgets/base",
            "_view_module_version": "1.2.0",
            "_view_name": "StyleView",
            "button_width": "",
            "description_width": "",
            "font_weight": ""
          }
        },
        "bbee9701bbb248d89c6ca69f9d93cc70": {
          "model_module": "@jupyter-widgets/base",
          "model_name": "LayoutModel",
          "model_module_version": "1.2.0",
          "state": {
            "_model_module": "@jupyter-widgets/base",
            "_model_module_version": "1.2.0",
            "_model_name": "LayoutModel",
            "_view_count": null,
            "_view_module": "@jupyter-widgets/base",
            "_view_module_version": "1.2.0",
            "_view_name": "LayoutView",
            "align_content": null,
            "align_items": null,
            "align_self": null,
            "border": null,
            "bottom": null,
            "display": null,
            "flex": null,
            "flex_flow": null,
            "grid_area": null,
            "grid_auto_columns": null,
            "grid_auto_flow": null,
            "grid_auto_rows": null,
            "grid_column": null,
            "grid_gap": null,
            "grid_row": null,
            "grid_template_areas": null,
            "grid_template_columns": null,
            "grid_template_rows": null,
            "height": null,
            "justify_content": null,
            "justify_items": null,
            "left": null,
            "margin": null,
            "max_height": null,
            "max_width": null,
            "min_height": null,
            "min_width": null,
            "object_fit": null,
            "object_position": null,
            "order": null,
            "overflow": null,
            "overflow_x": null,
            "overflow_y": null,
            "padding": null,
            "right": null,
            "top": null,
            "visibility": null,
            "width": null
          }
        }
      }
    }
  },
  "cells": [
    {
      "cell_type": "markdown",
      "metadata": {
        "id": "view-in-github",
        "colab_type": "text"
      },
      "source": [
        "<a href=\"https://colab.research.google.com/github/promiseeselojor/British-Airways-Virtual-Internship-Program/blob/main/British_Airways_Task_2(Virtual_Internship).ipynb\" target=\"_parent\"><img src=\"https://colab.research.google.com/assets/colab-badge.svg\" alt=\"Open In Colab\"/></a>"
      ]
    },
    {
      "cell_type": "markdown",
      "source": [
        "# **Install Pycaret**"
      ],
      "metadata": {
        "id": "lFz-f43XVU6U"
      }
    },
    {
      "cell_type": "code",
      "execution_count": null,
      "metadata": {
        "id": "QM4l7ATycYeA"
      },
      "outputs": [],
      "source": [
        "!pip install git+https://github.com/pycaret/pycaret.git#egg=pycaret"
      ]
    },
    {
      "cell_type": "markdown",
      "source": [
        "# **Import Libraries**"
      ],
      "metadata": {
        "id": "NoKXLV8nVeU4"
      }
    },
    {
      "cell_type": "code",
      "source": [
        "import pandas as pd\n",
        "import numpy as np"
      ],
      "metadata": {
        "id": "CcO85YHKygk-"
      },
      "execution_count": 2,
      "outputs": []
    },
    {
      "cell_type": "markdown",
      "source": [
        "# **Load Dataset**"
      ],
      "metadata": {
        "id": "pbMkDxnhVleC"
      }
    },
    {
      "cell_type": "code",
      "source": [
        "#mount google drive\n",
        "from google.colab import drive\n",
        "drive.mount('/content/drive')"
      ],
      "metadata": {
        "colab": {
          "base_uri": "https://localhost:8080/"
        },
        "id": "YJ3WQDvqynFa",
        "outputId": "cefd7721-3215-4602-a224-356d39df16a3"
      },
      "execution_count": 2,
      "outputs": [
        {
          "output_type": "stream",
          "name": "stdout",
          "text": [
            "Mounted at /content/drive\n"
          ]
        }
      ]
    },
    {
      "cell_type": "code",
      "execution_count": 3,
      "metadata": {
        "id": "RA30r5e-p2jm"
      },
      "outputs": [],
      "source": [
        "#import the data and load the dataframe\n",
        "data_path = '/content/drive/MyDrive/Data Science Projects/British Airways Data Science/customer_booking.csv'\n",
        "df = pd.read_csv(data_path, encoding = \"ISO-8859-1\")\n",
        "\n",
        "customer_booking = df.copy()"
      ]
    },
    {
      "cell_type": "code",
      "execution_count": 4,
      "metadata": {
        "colab": {
          "base_uri": "https://localhost:8080/"
        },
        "id": "t-i_76IQsYR5",
        "outputId": "8be9ff3b-5744-4324-e090-51e6ce5ce417"
      },
      "outputs": [
        {
          "output_type": "stream",
          "name": "stdout",
          "text": [
            "Data for modeling: (45000, 14)\n",
            "Unseen data for predictions: (5000, 14)\n"
          ]
        }
      ],
      "source": [
        "#create a sample containing 90% from the dataset\n",
        "data = customer_booking.sample(frac =0.9, random_state=786)\n",
        "\n",
        "#create a dataset of the remaining 10% left\n",
        "data_unseen = customer_booking.drop(data.index)\n",
        "\n",
        "data.reset_index(drop=True, inplace =True)\n",
        "data_unseen.reset_index(drop=True, inplace = True)\n",
        "\n",
        "print('Data for modeling: ' + str(data.shape))\n",
        "print('Unseen data for predictions: ' + str(data_unseen.shape))"
      ]
    },
    {
      "cell_type": "markdown",
      "source": [
        "# **Data Preparation**"
      ],
      "metadata": {
        "id": "K65YxzghVzCJ"
      }
    },
    {
      "cell_type": "code",
      "source": [
        "#create a machine learning transformation pipeline to preprocess the data before feeding it into the ML\n",
        "from pycaret.classification import *\n",
        "clf1 = setup(data = data, target = 'booking_complete', session_id=123, normalize = True, \n",
        "              transformation = False, fix_imbalance = True)"
      ],
      "metadata": {
        "colab": {
          "base_uri": "https://localhost:8080/",
          "height": 896
        },
        "id": "qRTvO0lCcgF9",
        "outputId": "205945a1-96a6-4ad3-f199-c49c27f69df7"
      },
      "execution_count": 5,
      "outputs": [
        {
          "output_type": "display_data",
          "data": {
            "text/plain": [
              "<pandas.io.formats.style.Styler at 0x7fcd02a23b20>"
            ],
            "text/html": [
              "<style type=\"text/css\">\n",
              "#T_51aa7_row10_col1, #T_51aa7_row16_col1, #T_51aa7_row18_col1 {\n",
              "  background-color: lightgreen;\n",
              "}\n",
              "</style>\n",
              "<table id=\"T_51aa7_\" class=\"dataframe\">\n",
              "  <thead>\n",
              "    <tr>\n",
              "      <th class=\"blank level0\" >&nbsp;</th>\n",
              "      <th class=\"col_heading level0 col0\" >Description</th>\n",
              "      <th class=\"col_heading level0 col1\" >Value</th>\n",
              "    </tr>\n",
              "  </thead>\n",
              "  <tbody>\n",
              "    <tr>\n",
              "      <th id=\"T_51aa7_level0_row0\" class=\"row_heading level0 row0\" >0</th>\n",
              "      <td id=\"T_51aa7_row0_col0\" class=\"data row0 col0\" >Session id</td>\n",
              "      <td id=\"T_51aa7_row0_col1\" class=\"data row0 col1\" >123</td>\n",
              "    </tr>\n",
              "    <tr>\n",
              "      <th id=\"T_51aa7_level0_row1\" class=\"row_heading level0 row1\" >1</th>\n",
              "      <td id=\"T_51aa7_row1_col0\" class=\"data row1 col0\" >Target</td>\n",
              "      <td id=\"T_51aa7_row1_col1\" class=\"data row1 col1\" >booking_complete</td>\n",
              "    </tr>\n",
              "    <tr>\n",
              "      <th id=\"T_51aa7_level0_row2\" class=\"row_heading level0 row2\" >2</th>\n",
              "      <td id=\"T_51aa7_row2_col0\" class=\"data row2 col0\" >Target type</td>\n",
              "      <td id=\"T_51aa7_row2_col1\" class=\"data row2 col1\" >Binary</td>\n",
              "    </tr>\n",
              "    <tr>\n",
              "      <th id=\"T_51aa7_level0_row3\" class=\"row_heading level0 row3\" >3</th>\n",
              "      <td id=\"T_51aa7_row3_col0\" class=\"data row3 col0\" >Original data shape</td>\n",
              "      <td id=\"T_51aa7_row3_col1\" class=\"data row3 col1\" >(45000, 14)</td>\n",
              "    </tr>\n",
              "    <tr>\n",
              "      <th id=\"T_51aa7_level0_row4\" class=\"row_heading level0 row4\" >4</th>\n",
              "      <td id=\"T_51aa7_row4_col0\" class=\"data row4 col0\" >Transformed data shape</td>\n",
              "      <td id=\"T_51aa7_row4_col1\" class=\"data row4 col1\" >(67091, 22)</td>\n",
              "    </tr>\n",
              "    <tr>\n",
              "      <th id=\"T_51aa7_level0_row5\" class=\"row_heading level0 row5\" >5</th>\n",
              "      <td id=\"T_51aa7_row5_col0\" class=\"data row5 col0\" >Transformed train set shape</td>\n",
              "      <td id=\"T_51aa7_row5_col1\" class=\"data row5 col1\" >(53590, 22)</td>\n",
              "    </tr>\n",
              "    <tr>\n",
              "      <th id=\"T_51aa7_level0_row6\" class=\"row_heading level0 row6\" >6</th>\n",
              "      <td id=\"T_51aa7_row6_col0\" class=\"data row6 col0\" >Transformed test set shape</td>\n",
              "      <td id=\"T_51aa7_row6_col1\" class=\"data row6 col1\" >(13501, 22)</td>\n",
              "    </tr>\n",
              "    <tr>\n",
              "      <th id=\"T_51aa7_level0_row7\" class=\"row_heading level0 row7\" >7</th>\n",
              "      <td id=\"T_51aa7_row7_col0\" class=\"data row7 col0\" >Ordinal features</td>\n",
              "      <td id=\"T_51aa7_row7_col1\" class=\"data row7 col1\" >1</td>\n",
              "    </tr>\n",
              "    <tr>\n",
              "      <th id=\"T_51aa7_level0_row8\" class=\"row_heading level0 row8\" >8</th>\n",
              "      <td id=\"T_51aa7_row8_col0\" class=\"data row8 col0\" >Numeric features</td>\n",
              "      <td id=\"T_51aa7_row8_col1\" class=\"data row8 col1\" >8</td>\n",
              "    </tr>\n",
              "    <tr>\n",
              "      <th id=\"T_51aa7_level0_row9\" class=\"row_heading level0 row9\" >9</th>\n",
              "      <td id=\"T_51aa7_row9_col0\" class=\"data row9 col0\" >Categorical features</td>\n",
              "      <td id=\"T_51aa7_row9_col1\" class=\"data row9 col1\" >5</td>\n",
              "    </tr>\n",
              "    <tr>\n",
              "      <th id=\"T_51aa7_level0_row10\" class=\"row_heading level0 row10\" >10</th>\n",
              "      <td id=\"T_51aa7_row10_col0\" class=\"data row10 col0\" >Preprocess</td>\n",
              "      <td id=\"T_51aa7_row10_col1\" class=\"data row10 col1\" >True</td>\n",
              "    </tr>\n",
              "    <tr>\n",
              "      <th id=\"T_51aa7_level0_row11\" class=\"row_heading level0 row11\" >11</th>\n",
              "      <td id=\"T_51aa7_row11_col0\" class=\"data row11 col0\" >Imputation type</td>\n",
              "      <td id=\"T_51aa7_row11_col1\" class=\"data row11 col1\" >simple</td>\n",
              "    </tr>\n",
              "    <tr>\n",
              "      <th id=\"T_51aa7_level0_row12\" class=\"row_heading level0 row12\" >12</th>\n",
              "      <td id=\"T_51aa7_row12_col0\" class=\"data row12 col0\" >Numeric imputation</td>\n",
              "      <td id=\"T_51aa7_row12_col1\" class=\"data row12 col1\" >mean</td>\n",
              "    </tr>\n",
              "    <tr>\n",
              "      <th id=\"T_51aa7_level0_row13\" class=\"row_heading level0 row13\" >13</th>\n",
              "      <td id=\"T_51aa7_row13_col0\" class=\"data row13 col0\" >Categorical imputation</td>\n",
              "      <td id=\"T_51aa7_row13_col1\" class=\"data row13 col1\" >mode</td>\n",
              "    </tr>\n",
              "    <tr>\n",
              "      <th id=\"T_51aa7_level0_row14\" class=\"row_heading level0 row14\" >14</th>\n",
              "      <td id=\"T_51aa7_row14_col0\" class=\"data row14 col0\" >Maximum one-hot encoding</td>\n",
              "      <td id=\"T_51aa7_row14_col1\" class=\"data row14 col1\" >25</td>\n",
              "    </tr>\n",
              "    <tr>\n",
              "      <th id=\"T_51aa7_level0_row15\" class=\"row_heading level0 row15\" >15</th>\n",
              "      <td id=\"T_51aa7_row15_col0\" class=\"data row15 col0\" >Encoding method</td>\n",
              "      <td id=\"T_51aa7_row15_col1\" class=\"data row15 col1\" >None</td>\n",
              "    </tr>\n",
              "    <tr>\n",
              "      <th id=\"T_51aa7_level0_row16\" class=\"row_heading level0 row16\" >16</th>\n",
              "      <td id=\"T_51aa7_row16_col0\" class=\"data row16 col0\" >Fix imbalance</td>\n",
              "      <td id=\"T_51aa7_row16_col1\" class=\"data row16 col1\" >True</td>\n",
              "    </tr>\n",
              "    <tr>\n",
              "      <th id=\"T_51aa7_level0_row17\" class=\"row_heading level0 row17\" >17</th>\n",
              "      <td id=\"T_51aa7_row17_col0\" class=\"data row17 col0\" >Fix imbalance method</td>\n",
              "      <td id=\"T_51aa7_row17_col1\" class=\"data row17 col1\" >SMOTE</td>\n",
              "    </tr>\n",
              "    <tr>\n",
              "      <th id=\"T_51aa7_level0_row18\" class=\"row_heading level0 row18\" >18</th>\n",
              "      <td id=\"T_51aa7_row18_col0\" class=\"data row18 col0\" >Normalize</td>\n",
              "      <td id=\"T_51aa7_row18_col1\" class=\"data row18 col1\" >True</td>\n",
              "    </tr>\n",
              "    <tr>\n",
              "      <th id=\"T_51aa7_level0_row19\" class=\"row_heading level0 row19\" >19</th>\n",
              "      <td id=\"T_51aa7_row19_col0\" class=\"data row19 col0\" >Normalize method</td>\n",
              "      <td id=\"T_51aa7_row19_col1\" class=\"data row19 col1\" >zscore</td>\n",
              "    </tr>\n",
              "    <tr>\n",
              "      <th id=\"T_51aa7_level0_row20\" class=\"row_heading level0 row20\" >20</th>\n",
              "      <td id=\"T_51aa7_row20_col0\" class=\"data row20 col0\" >Fold Generator</td>\n",
              "      <td id=\"T_51aa7_row20_col1\" class=\"data row20 col1\" >StratifiedKFold</td>\n",
              "    </tr>\n",
              "    <tr>\n",
              "      <th id=\"T_51aa7_level0_row21\" class=\"row_heading level0 row21\" >21</th>\n",
              "      <td id=\"T_51aa7_row21_col0\" class=\"data row21 col0\" >Fold Number</td>\n",
              "      <td id=\"T_51aa7_row21_col1\" class=\"data row21 col1\" >10</td>\n",
              "    </tr>\n",
              "    <tr>\n",
              "      <th id=\"T_51aa7_level0_row22\" class=\"row_heading level0 row22\" >22</th>\n",
              "      <td id=\"T_51aa7_row22_col0\" class=\"data row22 col0\" >CPU Jobs</td>\n",
              "      <td id=\"T_51aa7_row22_col1\" class=\"data row22 col1\" >-1</td>\n",
              "    </tr>\n",
              "    <tr>\n",
              "      <th id=\"T_51aa7_level0_row23\" class=\"row_heading level0 row23\" >23</th>\n",
              "      <td id=\"T_51aa7_row23_col0\" class=\"data row23 col0\" >Use GPU</td>\n",
              "      <td id=\"T_51aa7_row23_col1\" class=\"data row23 col1\" >False</td>\n",
              "    </tr>\n",
              "    <tr>\n",
              "      <th id=\"T_51aa7_level0_row24\" class=\"row_heading level0 row24\" >24</th>\n",
              "      <td id=\"T_51aa7_row24_col0\" class=\"data row24 col0\" >Log Experiment</td>\n",
              "      <td id=\"T_51aa7_row24_col1\" class=\"data row24 col1\" >False</td>\n",
              "    </tr>\n",
              "    <tr>\n",
              "      <th id=\"T_51aa7_level0_row25\" class=\"row_heading level0 row25\" >25</th>\n",
              "      <td id=\"T_51aa7_row25_col0\" class=\"data row25 col0\" >Experiment Name</td>\n",
              "      <td id=\"T_51aa7_row25_col1\" class=\"data row25 col1\" >clf-default-name</td>\n",
              "    </tr>\n",
              "    <tr>\n",
              "      <th id=\"T_51aa7_level0_row26\" class=\"row_heading level0 row26\" >26</th>\n",
              "      <td id=\"T_51aa7_row26_col0\" class=\"data row26 col0\" >USI</td>\n",
              "      <td id=\"T_51aa7_row26_col1\" class=\"data row26 col1\" >5fbb</td>\n",
              "    </tr>\n",
              "  </tbody>\n",
              "</table>\n"
            ]
          },
          "metadata": {}
        }
      ]
    },
    {
      "cell_type": "markdown",
      "source": [
        "# **Model Training and Selection**"
      ],
      "metadata": {
        "id": "hoDMiWegV-dW"
      }
    },
    {
      "cell_type": "code",
      "source": [
        "best = compare_models()"
      ],
      "metadata": {
        "colab": {
          "base_uri": "https://localhost:8080/",
          "height": 488,
          "referenced_widgets": [
            "ab079867cad84a19bbb286e096c79db6",
            "92e7d9deff61476d9434b4079367c442",
            "a23ef47c99b043668b53629a32676602",
            "3ef1a33e88a94b799539c02714960143",
            "7ac6463ab9f94268bbcd3a3516837715",
            "53ae48776b12445f8dd812ad6f54894d",
            "a006a497c1a442eea9501d40a35d8f74",
            "4e4549a0826e4fe2a342d7af55c9b1a9",
            "c6266d10542b4ef8946c03880637fba9",
            "fc3801868c2e4d05b0e0fba6c123097d",
            "27f9bc1a69db4c48a2eebfb1523375fb"
          ]
        },
        "id": "HJheh1sjc149",
        "outputId": "a58d84db-475b-43df-ed2e-c2dd5bc62279"
      },
      "execution_count": 6,
      "outputs": [
        {
          "output_type": "display_data",
          "data": {
            "text/plain": [
              "<IPython.core.display.HTML object>"
            ],
            "text/html": []
          },
          "metadata": {}
        },
        {
          "output_type": "display_data",
          "data": {
            "text/plain": [
              "<pandas.io.formats.style.Styler at 0x7fcd02a23670>"
            ],
            "text/html": [
              "<style type=\"text/css\">\n",
              "#T_611c2_ th {\n",
              "  text-align: left;\n",
              "}\n",
              "#T_611c2_row0_col0, #T_611c2_row0_col2, #T_611c2_row0_col3, #T_611c2_row0_col4, #T_611c2_row0_col5, #T_611c2_row0_col6, #T_611c2_row0_col7, #T_611c2_row1_col0, #T_611c2_row1_col1, #T_611c2_row1_col2, #T_611c2_row1_col3, #T_611c2_row1_col5, #T_611c2_row1_col6, #T_611c2_row1_col7, #T_611c2_row2_col0, #T_611c2_row2_col1, #T_611c2_row2_col2, #T_611c2_row2_col3, #T_611c2_row2_col4, #T_611c2_row2_col5, #T_611c2_row2_col6, #T_611c2_row2_col7, #T_611c2_row3_col0, #T_611c2_row3_col1, #T_611c2_row3_col2, #T_611c2_row3_col3, #T_611c2_row3_col4, #T_611c2_row3_col5, #T_611c2_row3_col6, #T_611c2_row3_col7, #T_611c2_row4_col0, #T_611c2_row4_col1, #T_611c2_row4_col2, #T_611c2_row4_col3, #T_611c2_row4_col4, #T_611c2_row4_col5, #T_611c2_row4_col6, #T_611c2_row4_col7, #T_611c2_row5_col0, #T_611c2_row5_col1, #T_611c2_row5_col2, #T_611c2_row5_col3, #T_611c2_row5_col4, #T_611c2_row5_col5, #T_611c2_row5_col6, #T_611c2_row5_col7, #T_611c2_row6_col0, #T_611c2_row6_col1, #T_611c2_row6_col2, #T_611c2_row6_col3, #T_611c2_row6_col4, #T_611c2_row7_col0, #T_611c2_row7_col1, #T_611c2_row7_col3, #T_611c2_row7_col4, #T_611c2_row8_col0, #T_611c2_row8_col1, #T_611c2_row8_col3, #T_611c2_row8_col4, #T_611c2_row8_col5, #T_611c2_row8_col6, #T_611c2_row8_col7, #T_611c2_row9_col0, #T_611c2_row9_col1, #T_611c2_row9_col2, #T_611c2_row9_col3, #T_611c2_row9_col4, #T_611c2_row9_col5, #T_611c2_row9_col6, #T_611c2_row9_col7, #T_611c2_row10_col0, #T_611c2_row10_col1, #T_611c2_row10_col2, #T_611c2_row10_col3, #T_611c2_row10_col4, #T_611c2_row10_col5, #T_611c2_row10_col6, #T_611c2_row10_col7, #T_611c2_row11_col0, #T_611c2_row11_col1, #T_611c2_row11_col2, #T_611c2_row11_col3, #T_611c2_row11_col4, #T_611c2_row11_col5, #T_611c2_row11_col6, #T_611c2_row11_col7, #T_611c2_row12_col0, #T_611c2_row12_col1, #T_611c2_row12_col2, #T_611c2_row12_col3, #T_611c2_row12_col4, #T_611c2_row12_col5, #T_611c2_row12_col6, #T_611c2_row12_col7, #T_611c2_row13_col0, #T_611c2_row13_col1, #T_611c2_row13_col2, #T_611c2_row13_col4, #T_611c2_row13_col5, #T_611c2_row13_col6, #T_611c2_row13_col7 {\n",
              "  text-align: left;\n",
              "}\n",
              "#T_611c2_row0_col1, #T_611c2_row1_col4, #T_611c2_row6_col5, #T_611c2_row6_col6, #T_611c2_row6_col7, #T_611c2_row7_col2, #T_611c2_row7_col5, #T_611c2_row7_col6, #T_611c2_row7_col7, #T_611c2_row8_col2, #T_611c2_row13_col3 {\n",
              "  text-align: left;\n",
              "  background-color: yellow;\n",
              "}\n",
              "#T_611c2_row0_col8, #T_611c2_row1_col8, #T_611c2_row2_col8, #T_611c2_row3_col8, #T_611c2_row4_col8, #T_611c2_row5_col8, #T_611c2_row6_col8, #T_611c2_row8_col8, #T_611c2_row9_col8, #T_611c2_row10_col8, #T_611c2_row11_col8, #T_611c2_row12_col8, #T_611c2_row13_col8 {\n",
              "  text-align: left;\n",
              "  background-color: lightgrey;\n",
              "}\n",
              "#T_611c2_row7_col8 {\n",
              "  text-align: left;\n",
              "  background-color: yellow;\n",
              "  background-color: lightgrey;\n",
              "}\n",
              "</style>\n",
              "<table id=\"T_611c2_\" class=\"dataframe\">\n",
              "  <thead>\n",
              "    <tr>\n",
              "      <th class=\"blank level0\" >&nbsp;</th>\n",
              "      <th class=\"col_heading level0 col0\" >Model</th>\n",
              "      <th class=\"col_heading level0 col1\" >Accuracy</th>\n",
              "      <th class=\"col_heading level0 col2\" >AUC</th>\n",
              "      <th class=\"col_heading level0 col3\" >Recall</th>\n",
              "      <th class=\"col_heading level0 col4\" >Prec.</th>\n",
              "      <th class=\"col_heading level0 col5\" >F1</th>\n",
              "      <th class=\"col_heading level0 col6\" >Kappa</th>\n",
              "      <th class=\"col_heading level0 col7\" >MCC</th>\n",
              "      <th class=\"col_heading level0 col8\" >TT (Sec)</th>\n",
              "    </tr>\n",
              "  </thead>\n",
              "  <tbody>\n",
              "    <tr>\n",
              "      <th id=\"T_611c2_level0_row0\" class=\"row_heading level0 row0\" >dummy</th>\n",
              "      <td id=\"T_611c2_row0_col0\" class=\"data row0 col0\" >Dummy Classifier</td>\n",
              "      <td id=\"T_611c2_row0_col1\" class=\"data row0 col1\" >0.8507</td>\n",
              "      <td id=\"T_611c2_row0_col2\" class=\"data row0 col2\" >0.5000</td>\n",
              "      <td id=\"T_611c2_row0_col3\" class=\"data row0 col3\" >0.0000</td>\n",
              "      <td id=\"T_611c2_row0_col4\" class=\"data row0 col4\" >0.0000</td>\n",
              "      <td id=\"T_611c2_row0_col5\" class=\"data row0 col5\" >0.0000</td>\n",
              "      <td id=\"T_611c2_row0_col6\" class=\"data row0 col6\" >0.0000</td>\n",
              "      <td id=\"T_611c2_row0_col7\" class=\"data row0 col7\" >0.0000</td>\n",
              "      <td id=\"T_611c2_row0_col8\" class=\"data row0 col8\" >0.2710</td>\n",
              "    </tr>\n",
              "    <tr>\n",
              "      <th id=\"T_611c2_level0_row1\" class=\"row_heading level0 row1\" >et</th>\n",
              "      <td id=\"T_611c2_row1_col0\" class=\"data row1 col0\" >Extra Trees Classifier</td>\n",
              "      <td id=\"T_611c2_row1_col1\" class=\"data row1 col1\" >0.8445</td>\n",
              "      <td id=\"T_611c2_row1_col2\" class=\"data row1 col2\" >0.7660</td>\n",
              "      <td id=\"T_611c2_row1_col3\" class=\"data row1 col3\" >0.1348</td>\n",
              "      <td id=\"T_611c2_row1_col4\" class=\"data row1 col4\" >0.4346</td>\n",
              "      <td id=\"T_611c2_row1_col5\" class=\"data row1 col5\" >0.2055</td>\n",
              "      <td id=\"T_611c2_row1_col6\" class=\"data row1 col6\" >0.1451</td>\n",
              "      <td id=\"T_611c2_row1_col7\" class=\"data row1 col7\" >0.1761</td>\n",
              "      <td id=\"T_611c2_row1_col8\" class=\"data row1 col8\" >1.7370</td>\n",
              "    </tr>\n",
              "    <tr>\n",
              "      <th id=\"T_611c2_level0_row2\" class=\"row_heading level0 row2\" >rf</th>\n",
              "      <td id=\"T_611c2_row2_col0\" class=\"data row2 col0\" >Random Forest Classifier</td>\n",
              "      <td id=\"T_611c2_row2_col1\" class=\"data row2 col1\" >0.8435</td>\n",
              "      <td id=\"T_611c2_row2_col2\" class=\"data row2 col2\" >0.6570</td>\n",
              "      <td id=\"T_611c2_row2_col3\" class=\"data row2 col3\" >0.0650</td>\n",
              "      <td id=\"T_611c2_row2_col4\" class=\"data row2 col4\" >0.3668</td>\n",
              "      <td id=\"T_611c2_row2_col5\" class=\"data row2 col5\" >0.1102</td>\n",
              "      <td id=\"T_611c2_row2_col6\" class=\"data row2 col6\" >0.0682</td>\n",
              "      <td id=\"T_611c2_row2_col7\" class=\"data row2 col7\" >0.1002</td>\n",
              "      <td id=\"T_611c2_row2_col8\" class=\"data row2 col8\" >1.0060</td>\n",
              "    </tr>\n",
              "    <tr>\n",
              "      <th id=\"T_611c2_level0_row3\" class=\"row_heading level0 row3\" >knn</th>\n",
              "      <td id=\"T_611c2_row3_col0\" class=\"data row3 col0\" >K Neighbors Classifier</td>\n",
              "      <td id=\"T_611c2_row3_col1\" class=\"data row3 col1\" >0.7612</td>\n",
              "      <td id=\"T_611c2_row3_col2\" class=\"data row3 col2\" >0.6945</td>\n",
              "      <td id=\"T_611c2_row3_col3\" class=\"data row3 col3\" >0.4494</td>\n",
              "      <td id=\"T_611c2_row3_col4\" class=\"data row3 col4\" >0.3002</td>\n",
              "      <td id=\"T_611c2_row3_col5\" class=\"data row3 col5\" >0.3599</td>\n",
              "      <td id=\"T_611c2_row3_col6\" class=\"data row3 col6\" >0.2203</td>\n",
              "      <td id=\"T_611c2_row3_col7\" class=\"data row3 col7\" >0.2271</td>\n",
              "      <td id=\"T_611c2_row3_col8\" class=\"data row3 col8\" >16.1550</td>\n",
              "    </tr>\n",
              "    <tr>\n",
              "      <th id=\"T_611c2_level0_row4\" class=\"row_heading level0 row4\" >ada</th>\n",
              "      <td id=\"T_611c2_row4_col0\" class=\"data row4 col0\" >Ada Boost Classifier</td>\n",
              "      <td id=\"T_611c2_row4_col1\" class=\"data row4 col1\" >0.7450</td>\n",
              "      <td id=\"T_611c2_row4_col2\" class=\"data row4 col2\" >0.5932</td>\n",
              "      <td id=\"T_611c2_row4_col3\" class=\"data row4 col3\" >0.3320</td>\n",
              "      <td id=\"T_611c2_row4_col4\" class=\"data row4 col4\" >0.2625</td>\n",
              "      <td id=\"T_611c2_row4_col5\" class=\"data row4 col5\" >0.2804</td>\n",
              "      <td id=\"T_611c2_row4_col6\" class=\"data row4 col6\" >0.1388</td>\n",
              "      <td id=\"T_611c2_row4_col7\" class=\"data row4 col7\" >0.1416</td>\n",
              "      <td id=\"T_611c2_row4_col8\" class=\"data row4 col8\" >0.7340</td>\n",
              "    </tr>\n",
              "    <tr>\n",
              "      <th id=\"T_611c2_level0_row5\" class=\"row_heading level0 row5\" >lightgbm</th>\n",
              "      <td id=\"T_611c2_row5_col0\" class=\"data row5 col0\" >Light Gradient Boosting Machine</td>\n",
              "      <td id=\"T_611c2_row5_col1\" class=\"data row5 col1\" >0.7376</td>\n",
              "      <td id=\"T_611c2_row5_col2\" class=\"data row5 col2\" >0.5711</td>\n",
              "      <td id=\"T_611c2_row5_col3\" class=\"data row5 col3\" >0.2632</td>\n",
              "      <td id=\"T_611c2_row5_col4\" class=\"data row5 col4\" >0.2085</td>\n",
              "      <td id=\"T_611c2_row5_col5\" class=\"data row5 col5\" >0.2256</td>\n",
              "      <td id=\"T_611c2_row5_col6\" class=\"data row5 col6\" >0.0755</td>\n",
              "      <td id=\"T_611c2_row5_col7\" class=\"data row5 col7\" >0.0775</td>\n",
              "      <td id=\"T_611c2_row5_col8\" class=\"data row5 col8\" >0.3940</td>\n",
              "    </tr>\n",
              "    <tr>\n",
              "      <th id=\"T_611c2_level0_row6\" class=\"row_heading level0 row6\" >ridge</th>\n",
              "      <td id=\"T_611c2_row6_col0\" class=\"data row6 col0\" >Ridge Classifier</td>\n",
              "      <td id=\"T_611c2_row6_col1\" class=\"data row6 col1\" >0.7285</td>\n",
              "      <td id=\"T_611c2_row6_col2\" class=\"data row6 col2\" >0.0000</td>\n",
              "      <td id=\"T_611c2_row6_col3\" class=\"data row6 col3\" >0.7045</td>\n",
              "      <td id=\"T_611c2_row6_col4\" class=\"data row6 col4\" >0.3164</td>\n",
              "      <td id=\"T_611c2_row6_col5\" class=\"data row6 col5\" >0.4366</td>\n",
              "      <td id=\"T_611c2_row6_col6\" class=\"data row6 col6\" >0.2904</td>\n",
              "      <td id=\"T_611c2_row6_col7\" class=\"data row6 col7\" >0.3308</td>\n",
              "      <td id=\"T_611c2_row6_col8\" class=\"data row6 col8\" >0.5230</td>\n",
              "    </tr>\n",
              "    <tr>\n",
              "      <th id=\"T_611c2_level0_row7\" class=\"row_heading level0 row7\" >lda</th>\n",
              "      <td id=\"T_611c2_row7_col0\" class=\"data row7 col0\" >Linear Discriminant Analysis</td>\n",
              "      <td id=\"T_611c2_row7_col1\" class=\"data row7 col1\" >0.7285</td>\n",
              "      <td id=\"T_611c2_row7_col2\" class=\"data row7 col2\" >0.7782</td>\n",
              "      <td id=\"T_611c2_row7_col3\" class=\"data row7 col3\" >0.7045</td>\n",
              "      <td id=\"T_611c2_row7_col4\" class=\"data row7 col4\" >0.3164</td>\n",
              "      <td id=\"T_611c2_row7_col5\" class=\"data row7 col5\" >0.4366</td>\n",
              "      <td id=\"T_611c2_row7_col6\" class=\"data row7 col6\" >0.2904</td>\n",
              "      <td id=\"T_611c2_row7_col7\" class=\"data row7 col7\" >0.3308</td>\n",
              "      <td id=\"T_611c2_row7_col8\" class=\"data row7 col8\" >0.2700</td>\n",
              "    </tr>\n",
              "    <tr>\n",
              "      <th id=\"T_611c2_level0_row8\" class=\"row_heading level0 row8\" >lr</th>\n",
              "      <td id=\"T_611c2_row8_col0\" class=\"data row8 col0\" >Logistic Regression</td>\n",
              "      <td id=\"T_611c2_row8_col1\" class=\"data row8 col1\" >0.7273</td>\n",
              "      <td id=\"T_611c2_row8_col2\" class=\"data row8 col2\" >0.7782</td>\n",
              "      <td id=\"T_611c2_row8_col3\" class=\"data row8 col3\" >0.7064</td>\n",
              "      <td id=\"T_611c2_row8_col4\" class=\"data row8 col4\" >0.3155</td>\n",
              "      <td id=\"T_611c2_row8_col5\" class=\"data row8 col5\" >0.4362</td>\n",
              "      <td id=\"T_611c2_row8_col6\" class=\"data row8 col6\" >0.2895</td>\n",
              "      <td id=\"T_611c2_row8_col7\" class=\"data row8 col7\" >0.3304</td>\n",
              "      <td id=\"T_611c2_row8_col8\" class=\"data row8 col8\" >1.0040</td>\n",
              "    </tr>\n",
              "    <tr>\n",
              "      <th id=\"T_611c2_level0_row9\" class=\"row_heading level0 row9\" >svm</th>\n",
              "      <td id=\"T_611c2_row9_col0\" class=\"data row9 col0\" >SVM - Linear Kernel</td>\n",
              "      <td id=\"T_611c2_row9_col1\" class=\"data row9 col1\" >0.7071</td>\n",
              "      <td id=\"T_611c2_row9_col2\" class=\"data row9 col2\" >0.0000</td>\n",
              "      <td id=\"T_611c2_row9_col3\" class=\"data row9 col3\" >0.7379</td>\n",
              "      <td id=\"T_611c2_row9_col4\" class=\"data row9 col4\" >0.3031</td>\n",
              "      <td id=\"T_611c2_row9_col5\" class=\"data row9 col5\" >0.4295</td>\n",
              "      <td id=\"T_611c2_row9_col6\" class=\"data row9 col6\" >0.2763</td>\n",
              "      <td id=\"T_611c2_row9_col7\" class=\"data row9 col7\" >0.3259</td>\n",
              "      <td id=\"T_611c2_row9_col8\" class=\"data row9 col8\" >0.3400</td>\n",
              "    </tr>\n",
              "    <tr>\n",
              "      <th id=\"T_611c2_level0_row10\" class=\"row_heading level0 row10\" >gbc</th>\n",
              "      <td id=\"T_611c2_row10_col0\" class=\"data row10 col0\" >Gradient Boosting Classifier</td>\n",
              "      <td id=\"T_611c2_row10_col1\" class=\"data row10 col1\" >0.7003</td>\n",
              "      <td id=\"T_611c2_row10_col2\" class=\"data row10 col2\" >0.5999</td>\n",
              "      <td id=\"T_611c2_row10_col3\" class=\"data row10 col3\" >0.3977</td>\n",
              "      <td id=\"T_611c2_row10_col4\" class=\"data row10 col4\" >0.2483</td>\n",
              "      <td id=\"T_611c2_row10_col5\" class=\"data row10 col5\" >0.2910</td>\n",
              "      <td id=\"T_611c2_row10_col6\" class=\"data row10 col6\" >0.1326</td>\n",
              "      <td id=\"T_611c2_row10_col7\" class=\"data row10 col7\" >0.1351</td>\n",
              "      <td id=\"T_611c2_row10_col8\" class=\"data row10 col8\" >0.6810</td>\n",
              "    </tr>\n",
              "    <tr>\n",
              "      <th id=\"T_611c2_level0_row11\" class=\"row_heading level0 row11\" >dt</th>\n",
              "      <td id=\"T_611c2_row11_col0\" class=\"data row11 col0\" >Decision Tree Classifier</td>\n",
              "      <td id=\"T_611c2_row11_col1\" class=\"data row11 col1\" >0.4933</td>\n",
              "      <td id=\"T_611c2_row11_col2\" class=\"data row11 col2\" >0.5211</td>\n",
              "      <td id=\"T_611c2_row11_col3\" class=\"data row11 col3\" >0.5607</td>\n",
              "      <td id=\"T_611c2_row11_col4\" class=\"data row11 col4\" >0.1665</td>\n",
              "      <td id=\"T_611c2_row11_col5\" class=\"data row11 col5\" >0.2531</td>\n",
              "      <td id=\"T_611c2_row11_col6\" class=\"data row11 col6\" >0.0306</td>\n",
              "      <td id=\"T_611c2_row11_col7\" class=\"data row11 col7\" >0.0247</td>\n",
              "      <td id=\"T_611c2_row11_col8\" class=\"data row11 col8\" >0.3690</td>\n",
              "    </tr>\n",
              "    <tr>\n",
              "      <th id=\"T_611c2_level0_row12\" class=\"row_heading level0 row12\" >qda</th>\n",
              "      <td id=\"T_611c2_row12_col0\" class=\"data row12 col0\" >Quadratic Discriminant Analysis</td>\n",
              "      <td id=\"T_611c2_row12_col1\" class=\"data row12 col1\" >0.3976</td>\n",
              "      <td id=\"T_611c2_row12_col2\" class=\"data row12 col2\" >0.6875</td>\n",
              "      <td id=\"T_611c2_row12_col3\" class=\"data row12 col3\" >0.8382</td>\n",
              "      <td id=\"T_611c2_row12_col4\" class=\"data row12 col4\" >0.1797</td>\n",
              "      <td id=\"T_611c2_row12_col5\" class=\"data row12 col5\" >0.2950</td>\n",
              "      <td id=\"T_611c2_row12_col6\" class=\"data row12 col6\" >0.0653</td>\n",
              "      <td id=\"T_611c2_row12_col7\" class=\"data row12 col7\" >0.1258</td>\n",
              "      <td id=\"T_611c2_row12_col8\" class=\"data row12 col8\" >0.3510</td>\n",
              "    </tr>\n",
              "    <tr>\n",
              "      <th id=\"T_611c2_level0_row13\" class=\"row_heading level0 row13\" >nb</th>\n",
              "      <td id=\"T_611c2_row13_col0\" class=\"data row13 col0\" >Naive Bayes</td>\n",
              "      <td id=\"T_611c2_row13_col1\" class=\"data row13 col1\" >0.3225</td>\n",
              "      <td id=\"T_611c2_row13_col2\" class=\"data row13 col2\" >0.7407</td>\n",
              "      <td id=\"T_611c2_row13_col3\" class=\"data row13 col3\" >0.9207</td>\n",
              "      <td id=\"T_611c2_row13_col4\" class=\"data row13 col4\" >0.1713</td>\n",
              "      <td id=\"T_611c2_row13_col5\" class=\"data row13 col5\" >0.2888</td>\n",
              "      <td id=\"T_611c2_row13_col6\" class=\"data row13 col6\" >0.0494</td>\n",
              "      <td id=\"T_611c2_row13_col7\" class=\"data row13 col7\" >0.1241</td>\n",
              "      <td id=\"T_611c2_row13_col8\" class=\"data row13 col8\" >0.5960</td>\n",
              "    </tr>\n",
              "  </tbody>\n",
              "</table>\n"
            ]
          },
          "metadata": {}
        },
        {
          "output_type": "display_data",
          "data": {
            "text/plain": [
              "Processing:   0%|          | 0/61 [00:00<?, ?it/s]"
            ],
            "application/vnd.jupyter.widget-view+json": {
              "version_major": 2,
              "version_minor": 0,
              "model_id": "ab079867cad84a19bbb286e096c79db6"
            }
          },
          "metadata": {
            "application/vnd.jupyter.widget-view+json": {
              "colab": {
                "custom_widget_manager": {
                  "url": "https://ssl.gstatic.com/colaboratory-static/widgets/colab-cdn-widget-manager/b3e629b1971e1542/manager.min.js"
                }
              }
            }
          }
        },
        {
          "output_type": "display_data",
          "data": {
            "text/plain": [
              "<IPython.core.display.HTML object>"
            ],
            "text/html": []
          },
          "metadata": {}
        }
      ]
    },
    {
      "cell_type": "markdown",
      "source": [
        "I'm going to select the LDA (Linear Discriminant Analysis) model because it has a good recall score, AUC, and accuracy of 72.85%  which are the key metrics needed for this model. I wont really depend on accuracy for this model beacuase of the target variable imbalance\n",
        "\n",
        "The Extra Tree Classifier algo has the best accuracy(84.45%) but has a very low recall score. It has a lot of false negatives (predicting a customer will not book a holiday with the airline when in fact they did). The goal of this model is to maintain a good enough accuracy and also minimize false negatives as much as possible.\n",
        "\n",
        "For this scenario and business case, it's much more beneficial to have a model that has a low number of false negatives. Predicting a customer will book a holiday and they eventually end up not booking is much preferrable than having the model predict that a customer will not book a holiday and they eventually end up booking. The latter may be very costly to the business\n",
        "\n",
        "\n"
      ],
      "metadata": {
        "id": "BeENwNKkWZL5"
      }
    },
    {
      "cell_type": "code",
      "source": [
        "lda = create_model('lda')"
      ],
      "metadata": {
        "colab": {
          "base_uri": "https://localhost:8080/",
          "height": 457,
          "referenced_widgets": [
            "6645f557721d4140ac5c582ca99386a2",
            "377abd62d9544bd89f618d3eb533ea1e",
            "817f4299699645a8839038cb598cdf0c",
            "e54453c0cac141ceb536b9dd0c0d3810",
            "7cdbc9bbadb042b5b59b3d9b2b900521",
            "f486e7334b084ca798c49bf997fc76c4",
            "a54945e126574809bc804f40aeed56a1",
            "f2d4af028b074781821c9cc34d1bc8f6",
            "3d2c67c6bd9c4960a0c5732c33f6653f",
            "9030ca2155d44ee592825cddd5cb9d42",
            "fedf81e064c24e2bb5e224baacf8a760"
          ]
        },
        "id": "pyO8WnNt3jP_",
        "outputId": "d973accf-11f7-498b-98f7-0228f7674293"
      },
      "execution_count": 7,
      "outputs": [
        {
          "output_type": "display_data",
          "data": {
            "text/plain": [
              "<IPython.core.display.HTML object>"
            ],
            "text/html": []
          },
          "metadata": {}
        },
        {
          "output_type": "display_data",
          "data": {
            "text/plain": [
              "<pandas.io.formats.style.Styler at 0x7fcd02b7b280>"
            ],
            "text/html": [
              "<style type=\"text/css\">\n",
              "#T_ad8e0_row10_col0, #T_ad8e0_row10_col1, #T_ad8e0_row10_col2, #T_ad8e0_row10_col3, #T_ad8e0_row10_col4, #T_ad8e0_row10_col5, #T_ad8e0_row10_col6 {\n",
              "  background: yellow;\n",
              "}\n",
              "</style>\n",
              "<table id=\"T_ad8e0_\" class=\"dataframe\">\n",
              "  <thead>\n",
              "    <tr>\n",
              "      <th class=\"blank level0\" >&nbsp;</th>\n",
              "      <th class=\"col_heading level0 col0\" >Accuracy</th>\n",
              "      <th class=\"col_heading level0 col1\" >AUC</th>\n",
              "      <th class=\"col_heading level0 col2\" >Recall</th>\n",
              "      <th class=\"col_heading level0 col3\" >Prec.</th>\n",
              "      <th class=\"col_heading level0 col4\" >F1</th>\n",
              "      <th class=\"col_heading level0 col5\" >Kappa</th>\n",
              "      <th class=\"col_heading level0 col6\" >MCC</th>\n",
              "    </tr>\n",
              "    <tr>\n",
              "      <th class=\"index_name level0\" >Fold</th>\n",
              "      <th class=\"blank col0\" >&nbsp;</th>\n",
              "      <th class=\"blank col1\" >&nbsp;</th>\n",
              "      <th class=\"blank col2\" >&nbsp;</th>\n",
              "      <th class=\"blank col3\" >&nbsp;</th>\n",
              "      <th class=\"blank col4\" >&nbsp;</th>\n",
              "      <th class=\"blank col5\" >&nbsp;</th>\n",
              "      <th class=\"blank col6\" >&nbsp;</th>\n",
              "    </tr>\n",
              "  </thead>\n",
              "  <tbody>\n",
              "    <tr>\n",
              "      <th id=\"T_ad8e0_level0_row0\" class=\"row_heading level0 row0\" >0</th>\n",
              "      <td id=\"T_ad8e0_row0_col0\" class=\"data row0 col0\" >0.7343</td>\n",
              "      <td id=\"T_ad8e0_row0_col1\" class=\"data row0 col1\" >0.7932</td>\n",
              "      <td id=\"T_ad8e0_row0_col2\" class=\"data row0 col2\" >0.7447</td>\n",
              "      <td id=\"T_ad8e0_row0_col3\" class=\"data row0 col3\" >0.3280</td>\n",
              "      <td id=\"T_ad8e0_row0_col4\" class=\"data row0 col4\" >0.4554</td>\n",
              "      <td id=\"T_ad8e0_row0_col5\" class=\"data row0 col5\" >0.3131</td>\n",
              "      <td id=\"T_ad8e0_row0_col6\" class=\"data row0 col6\" >0.3592</td>\n",
              "    </tr>\n",
              "    <tr>\n",
              "      <th id=\"T_ad8e0_level0_row1\" class=\"row_heading level0 row1\" >1</th>\n",
              "      <td id=\"T_ad8e0_row1_col0\" class=\"data row1 col0\" >0.7295</td>\n",
              "      <td id=\"T_ad8e0_row1_col1\" class=\"data row1 col1\" >0.7655</td>\n",
              "      <td id=\"T_ad8e0_row1_col2\" class=\"data row1 col2\" >0.6723</td>\n",
              "      <td id=\"T_ad8e0_row1_col3\" class=\"data row1 col3\" >0.3116</td>\n",
              "      <td id=\"T_ad8e0_row1_col4\" class=\"data row1 col4\" >0.4259</td>\n",
              "      <td id=\"T_ad8e0_row1_col5\" class=\"data row1 col5\" >0.2788</td>\n",
              "      <td id=\"T_ad8e0_row1_col6\" class=\"data row1 col6\" >0.3141</td>\n",
              "    </tr>\n",
              "    <tr>\n",
              "      <th id=\"T_ad8e0_level0_row2\" class=\"row_heading level0 row2\" >2</th>\n",
              "      <td id=\"T_ad8e0_row2_col0\" class=\"data row2 col0\" >0.7260</td>\n",
              "      <td id=\"T_ad8e0_row2_col1\" class=\"data row2 col1\" >0.7762</td>\n",
              "      <td id=\"T_ad8e0_row2_col2\" class=\"data row2 col2\" >0.7106</td>\n",
              "      <td id=\"T_ad8e0_row2_col3\" class=\"data row2 col3\" >0.3148</td>\n",
              "      <td id=\"T_ad8e0_row2_col4\" class=\"data row2 col4\" >0.4363</td>\n",
              "      <td id=\"T_ad8e0_row2_col5\" class=\"data row2 col5\" >0.2894</td>\n",
              "      <td id=\"T_ad8e0_row2_col6\" class=\"data row2 col6\" >0.3312</td>\n",
              "    </tr>\n",
              "    <tr>\n",
              "      <th id=\"T_ad8e0_level0_row3\" class=\"row_heading level0 row3\" >3</th>\n",
              "      <td id=\"T_ad8e0_row3_col0\" class=\"data row3 col0\" >0.7302</td>\n",
              "      <td id=\"T_ad8e0_row3_col1\" class=\"data row3 col1\" >0.7705</td>\n",
              "      <td id=\"T_ad8e0_row3_col2\" class=\"data row3 col2\" >0.7021</td>\n",
              "      <td id=\"T_ad8e0_row3_col3\" class=\"data row3 col3\" >0.3173</td>\n",
              "      <td id=\"T_ad8e0_row3_col4\" class=\"data row3 col4\" >0.4371</td>\n",
              "      <td id=\"T_ad8e0_row3_col5\" class=\"data row3 col5\" >0.2915</td>\n",
              "      <td id=\"T_ad8e0_row3_col6\" class=\"data row3 col6\" >0.3312</td>\n",
              "    </tr>\n",
              "    <tr>\n",
              "      <th id=\"T_ad8e0_level0_row4\" class=\"row_heading level0 row4\" >4</th>\n",
              "      <td id=\"T_ad8e0_row4_col0\" class=\"data row4 col0\" >0.7324</td>\n",
              "      <td id=\"T_ad8e0_row4_col1\" class=\"data row4 col1\" >0.7794</td>\n",
              "      <td id=\"T_ad8e0_row4_col2\" class=\"data row4 col2\" >0.7191</td>\n",
              "      <td id=\"T_ad8e0_row4_col3\" class=\"data row4 col3\" >0.3222</td>\n",
              "      <td id=\"T_ad8e0_row4_col4\" class=\"data row4 col4\" >0.4450</td>\n",
              "      <td id=\"T_ad8e0_row4_col5\" class=\"data row4 col5\" >0.3010</td>\n",
              "      <td id=\"T_ad8e0_row4_col6\" class=\"data row4 col6\" >0.3431</td>\n",
              "    </tr>\n",
              "    <tr>\n",
              "      <th id=\"T_ad8e0_level0_row5\" class=\"row_heading level0 row5\" >5</th>\n",
              "      <td id=\"T_ad8e0_row5_col0\" class=\"data row5 col0\" >0.7210</td>\n",
              "      <td id=\"T_ad8e0_row5_col1\" class=\"data row5 col1\" >0.7651</td>\n",
              "      <td id=\"T_ad8e0_row5_col2\" class=\"data row5 col2\" >0.6603</td>\n",
              "      <td id=\"T_ad8e0_row5_col3\" class=\"data row5 col3\" >0.3019</td>\n",
              "      <td id=\"T_ad8e0_row5_col4\" class=\"data row5 col4\" >0.4144</td>\n",
              "      <td id=\"T_ad8e0_row5_col5\" class=\"data row5 col5\" >0.2632</td>\n",
              "      <td id=\"T_ad8e0_row5_col6\" class=\"data row5 col6\" >0.2979</td>\n",
              "    </tr>\n",
              "    <tr>\n",
              "      <th id=\"T_ad8e0_level0_row6\" class=\"row_heading level0 row6\" >6</th>\n",
              "      <td id=\"T_ad8e0_row6_col0\" class=\"data row6 col0\" >0.7251</td>\n",
              "      <td id=\"T_ad8e0_row6_col1\" class=\"data row6 col1\" >0.7749</td>\n",
              "      <td id=\"T_ad8e0_row6_col2\" class=\"data row6 col2\" >0.6879</td>\n",
              "      <td id=\"T_ad8e0_row6_col3\" class=\"data row6 col3\" >0.3106</td>\n",
              "      <td id=\"T_ad8e0_row6_col4\" class=\"data row6 col4\" >0.4280</td>\n",
              "      <td id=\"T_ad8e0_row6_col5\" class=\"data row6 col5\" >0.2796</td>\n",
              "      <td id=\"T_ad8e0_row6_col6\" class=\"data row6 col6\" >0.3179</td>\n",
              "    </tr>\n",
              "    <tr>\n",
              "      <th id=\"T_ad8e0_level0_row7\" class=\"row_heading level0 row7\" >7</th>\n",
              "      <td id=\"T_ad8e0_row7_col0\" class=\"data row7 col0\" >0.7416</td>\n",
              "      <td id=\"T_ad8e0_row7_col1\" class=\"data row7 col1\" >0.8053</td>\n",
              "      <td id=\"T_ad8e0_row7_col2\" class=\"data row7 col2\" >0.7558</td>\n",
              "      <td id=\"T_ad8e0_row7_col3\" class=\"data row7 col3\" >0.3374</td>\n",
              "      <td id=\"T_ad8e0_row7_col4\" class=\"data row7 col4\" >0.4666</td>\n",
              "      <td id=\"T_ad8e0_row7_col5\" class=\"data row7 col5\" >0.3276</td>\n",
              "      <td id=\"T_ad8e0_row7_col6\" class=\"data row7 col6\" >0.3740</td>\n",
              "    </tr>\n",
              "    <tr>\n",
              "      <th id=\"T_ad8e0_level0_row8\" class=\"row_heading level0 row8\" >8</th>\n",
              "      <td id=\"T_ad8e0_row8_col0\" class=\"data row8 col0\" >0.7114</td>\n",
              "      <td id=\"T_ad8e0_row8_col1\" class=\"data row8 col1\" >0.7680</td>\n",
              "      <td id=\"T_ad8e0_row8_col2\" class=\"data row8 col2\" >0.6921</td>\n",
              "      <td id=\"T_ad8e0_row8_col3\" class=\"data row8 col3\" >0.2991</td>\n",
              "      <td id=\"T_ad8e0_row8_col4\" class=\"data row8 col4\" >0.4177</td>\n",
              "      <td id=\"T_ad8e0_row8_col5\" class=\"data row8 col5\" >0.2640</td>\n",
              "      <td id=\"T_ad8e0_row8_col6\" class=\"data row8 col6\" >0.3051</td>\n",
              "    </tr>\n",
              "    <tr>\n",
              "      <th id=\"T_ad8e0_level0_row9\" class=\"row_heading level0 row9\" >9</th>\n",
              "      <td id=\"T_ad8e0_row9_col0\" class=\"data row9 col0\" >0.7339</td>\n",
              "      <td id=\"T_ad8e0_row9_col1\" class=\"data row9 col1\" >0.7835</td>\n",
              "      <td id=\"T_ad8e0_row9_col2\" class=\"data row9 col2\" >0.7000</td>\n",
              "      <td id=\"T_ad8e0_row9_col3\" class=\"data row9 col3\" >0.3207</td>\n",
              "      <td id=\"T_ad8e0_row9_col4\" class=\"data row9 col4\" >0.4398</td>\n",
              "      <td id=\"T_ad8e0_row9_col5\" class=\"data row9 col5\" >0.2956</td>\n",
              "      <td id=\"T_ad8e0_row9_col6\" class=\"data row9 col6\" >0.3344</td>\n",
              "    </tr>\n",
              "    <tr>\n",
              "      <th id=\"T_ad8e0_level0_row10\" class=\"row_heading level0 row10\" >Mean</th>\n",
              "      <td id=\"T_ad8e0_row10_col0\" class=\"data row10 col0\" >0.7285</td>\n",
              "      <td id=\"T_ad8e0_row10_col1\" class=\"data row10 col1\" >0.7782</td>\n",
              "      <td id=\"T_ad8e0_row10_col2\" class=\"data row10 col2\" >0.7045</td>\n",
              "      <td id=\"T_ad8e0_row10_col3\" class=\"data row10 col3\" >0.3164</td>\n",
              "      <td id=\"T_ad8e0_row10_col4\" class=\"data row10 col4\" >0.4366</td>\n",
              "      <td id=\"T_ad8e0_row10_col5\" class=\"data row10 col5\" >0.2904</td>\n",
              "      <td id=\"T_ad8e0_row10_col6\" class=\"data row10 col6\" >0.3308</td>\n",
              "    </tr>\n",
              "    <tr>\n",
              "      <th id=\"T_ad8e0_level0_row11\" class=\"row_heading level0 row11\" >Std</th>\n",
              "      <td id=\"T_ad8e0_row11_col0\" class=\"data row11 col0\" >0.0079</td>\n",
              "      <td id=\"T_ad8e0_row11_col1\" class=\"data row11 col1\" >0.0123</td>\n",
              "      <td id=\"T_ad8e0_row11_col2\" class=\"data row11 col2\" >0.0282</td>\n",
              "      <td id=\"T_ad8e0_row11_col3\" class=\"data row11 col3\" >0.0109</td>\n",
              "      <td id=\"T_ad8e0_row11_col4\" class=\"data row11 col4\" >0.0154</td>\n",
              "      <td id=\"T_ad8e0_row11_col5\" class=\"data row11 col5\" >0.0193</td>\n",
              "      <td id=\"T_ad8e0_row11_col6\" class=\"data row11 col6\" >0.0224</td>\n",
              "    </tr>\n",
              "  </tbody>\n",
              "</table>\n"
            ]
          },
          "metadata": {}
        },
        {
          "output_type": "display_data",
          "data": {
            "text/plain": [
              "Processing:   0%|          | 0/4 [00:00<?, ?it/s]"
            ],
            "application/vnd.jupyter.widget-view+json": {
              "version_major": 2,
              "version_minor": 0,
              "model_id": "6645f557721d4140ac5c582ca99386a2"
            }
          },
          "metadata": {
            "application/vnd.jupyter.widget-view+json": {
              "colab": {
                "custom_widget_manager": {
                  "url": "https://ssl.gstatic.com/colaboratory-static/widgets/colab-cdn-widget-manager/b3e629b1971e1542/manager.min.js"
                }
              }
            }
          }
        },
        {
          "output_type": "display_data",
          "data": {
            "text/plain": [
              "<IPython.core.display.HTML object>"
            ],
            "text/html": []
          },
          "metadata": {}
        }
      ]
    },
    {
      "cell_type": "code",
      "source": [
        "print(lda)"
      ],
      "metadata": {
        "colab": {
          "base_uri": "https://localhost:8080/"
        },
        "id": "Vp29BS34Fbe5",
        "outputId": "f01283e4-6a0f-4bda-c30c-d22148b95f3c"
      },
      "execution_count": 8,
      "outputs": [
        {
          "output_type": "stream",
          "name": "stdout",
          "text": [
            "LinearDiscriminantAnalysis(covariance_estimator=None, n_components=None,\n",
            "                           priors=None, shrinkage=None, solver='svd',\n",
            "                           store_covariance=False, tol=0.0001)\n"
          ]
        }
      ]
    },
    {
      "cell_type": "markdown",
      "source": [
        "# **Hyperparameter Tuning**"
      ],
      "metadata": {
        "id": "AxgbCedvFqkq"
      }
    },
    {
      "cell_type": "code",
      "source": [
        "#hyperparameter optimizations\n",
        "tuned_lda = tune_model(lda)"
      ],
      "metadata": {
        "colab": {
          "base_uri": "https://localhost:8080/",
          "height": 474,
          "referenced_widgets": [
            "b418a918b0a54c4799ecf01cd86a04c4",
            "59bc2f8e9061479da584bca070267f40",
            "8c6d9944a52a4dba8e585b2ced049301",
            "22557db872d24a11a703d0c5bab0f30f",
            "141e3b8b2f50494e8f997372e045db9b",
            "1361f25bb85944298ad9694852a5e022",
            "c0641e12844c462480d6496990a680a7",
            "5de1dc43014b48b9822519974b23eb9f",
            "1c3cfa70e13e471cb376b77ef69435e5",
            "ee2197e5a6bb405ab8baaa07f774ef4f",
            "286af3067b7142ccbfedbcecd7919856"
          ]
        },
        "id": "JqEQ5khfGccp",
        "outputId": "2f96ae08-1395-404b-a154-a7cbc984d484"
      },
      "execution_count": 9,
      "outputs": [
        {
          "output_type": "display_data",
          "data": {
            "text/plain": [
              "<IPython.core.display.HTML object>"
            ],
            "text/html": []
          },
          "metadata": {}
        },
        {
          "output_type": "display_data",
          "data": {
            "text/plain": [
              "<pandas.io.formats.style.Styler at 0x7fcd02a23280>"
            ],
            "text/html": [
              "<style type=\"text/css\">\n",
              "#T_01b1d_row10_col0, #T_01b1d_row10_col1, #T_01b1d_row10_col2, #T_01b1d_row10_col3, #T_01b1d_row10_col4, #T_01b1d_row10_col5, #T_01b1d_row10_col6 {\n",
              "  background: yellow;\n",
              "}\n",
              "</style>\n",
              "<table id=\"T_01b1d_\" class=\"dataframe\">\n",
              "  <thead>\n",
              "    <tr>\n",
              "      <th class=\"blank level0\" >&nbsp;</th>\n",
              "      <th class=\"col_heading level0 col0\" >Accuracy</th>\n",
              "      <th class=\"col_heading level0 col1\" >AUC</th>\n",
              "      <th class=\"col_heading level0 col2\" >Recall</th>\n",
              "      <th class=\"col_heading level0 col3\" >Prec.</th>\n",
              "      <th class=\"col_heading level0 col4\" >F1</th>\n",
              "      <th class=\"col_heading level0 col5\" >Kappa</th>\n",
              "      <th class=\"col_heading level0 col6\" >MCC</th>\n",
              "    </tr>\n",
              "    <tr>\n",
              "      <th class=\"index_name level0\" >Fold</th>\n",
              "      <th class=\"blank col0\" >&nbsp;</th>\n",
              "      <th class=\"blank col1\" >&nbsp;</th>\n",
              "      <th class=\"blank col2\" >&nbsp;</th>\n",
              "      <th class=\"blank col3\" >&nbsp;</th>\n",
              "      <th class=\"blank col4\" >&nbsp;</th>\n",
              "      <th class=\"blank col5\" >&nbsp;</th>\n",
              "      <th class=\"blank col6\" >&nbsp;</th>\n",
              "    </tr>\n",
              "  </thead>\n",
              "  <tbody>\n",
              "    <tr>\n",
              "      <th id=\"T_01b1d_level0_row0\" class=\"row_heading level0 row0\" >0</th>\n",
              "      <td id=\"T_01b1d_row0_col0\" class=\"data row0 col0\" >0.7340</td>\n",
              "      <td id=\"T_01b1d_row0_col1\" class=\"data row0 col1\" >0.7932</td>\n",
              "      <td id=\"T_01b1d_row0_col2\" class=\"data row0 col2\" >0.7468</td>\n",
              "      <td id=\"T_01b1d_row0_col3\" class=\"data row0 col3\" >0.3280</td>\n",
              "      <td id=\"T_01b1d_row0_col4\" class=\"data row0 col4\" >0.4558</td>\n",
              "      <td id=\"T_01b1d_row0_col5\" class=\"data row0 col5\" >0.3135</td>\n",
              "      <td id=\"T_01b1d_row0_col6\" class=\"data row0 col6\" >0.3600</td>\n",
              "    </tr>\n",
              "    <tr>\n",
              "      <th id=\"T_01b1d_level0_row1\" class=\"row_heading level0 row1\" >1</th>\n",
              "      <td id=\"T_01b1d_row1_col0\" class=\"data row1 col0\" >0.7292</td>\n",
              "      <td id=\"T_01b1d_row1_col1\" class=\"data row1 col1\" >0.7655</td>\n",
              "      <td id=\"T_01b1d_row1_col2\" class=\"data row1 col2\" >0.6723</td>\n",
              "      <td id=\"T_01b1d_row1_col3\" class=\"data row1 col3\" >0.3113</td>\n",
              "      <td id=\"T_01b1d_row1_col4\" class=\"data row1 col4\" >0.4256</td>\n",
              "      <td id=\"T_01b1d_row1_col5\" class=\"data row1 col5\" >0.2784</td>\n",
              "      <td id=\"T_01b1d_row1_col6\" class=\"data row1 col6\" >0.3137</td>\n",
              "    </tr>\n",
              "    <tr>\n",
              "      <th id=\"T_01b1d_level0_row2\" class=\"row_heading level0 row2\" >2</th>\n",
              "      <td id=\"T_01b1d_row2_col0\" class=\"data row2 col0\" >0.7257</td>\n",
              "      <td id=\"T_01b1d_row2_col1\" class=\"data row2 col1\" >0.7762</td>\n",
              "      <td id=\"T_01b1d_row2_col2\" class=\"data row2 col2\" >0.7106</td>\n",
              "      <td id=\"T_01b1d_row2_col3\" class=\"data row2 col3\" >0.3145</td>\n",
              "      <td id=\"T_01b1d_row2_col4\" class=\"data row2 col4\" >0.4360</td>\n",
              "      <td id=\"T_01b1d_row2_col5\" class=\"data row2 col5\" >0.2889</td>\n",
              "      <td id=\"T_01b1d_row2_col6\" class=\"data row2 col6\" >0.3309</td>\n",
              "    </tr>\n",
              "    <tr>\n",
              "      <th id=\"T_01b1d_level0_row3\" class=\"row_heading level0 row3\" >3</th>\n",
              "      <td id=\"T_01b1d_row3_col0\" class=\"data row3 col0\" >0.7302</td>\n",
              "      <td id=\"T_01b1d_row3_col1\" class=\"data row3 col1\" >0.7705</td>\n",
              "      <td id=\"T_01b1d_row3_col2\" class=\"data row3 col2\" >0.7021</td>\n",
              "      <td id=\"T_01b1d_row3_col3\" class=\"data row3 col3\" >0.3173</td>\n",
              "      <td id=\"T_01b1d_row3_col4\" class=\"data row3 col4\" >0.4371</td>\n",
              "      <td id=\"T_01b1d_row3_col5\" class=\"data row3 col5\" >0.2915</td>\n",
              "      <td id=\"T_01b1d_row3_col6\" class=\"data row3 col6\" >0.3312</td>\n",
              "    </tr>\n",
              "    <tr>\n",
              "      <th id=\"T_01b1d_level0_row4\" class=\"row_heading level0 row4\" >4</th>\n",
              "      <td id=\"T_01b1d_row4_col0\" class=\"data row4 col0\" >0.7321</td>\n",
              "      <td id=\"T_01b1d_row4_col1\" class=\"data row4 col1\" >0.7795</td>\n",
              "      <td id=\"T_01b1d_row4_col2\" class=\"data row4 col2\" >0.7191</td>\n",
              "      <td id=\"T_01b1d_row4_col3\" class=\"data row4 col3\" >0.3219</td>\n",
              "      <td id=\"T_01b1d_row4_col4\" class=\"data row4 col4\" >0.4447</td>\n",
              "      <td id=\"T_01b1d_row4_col5\" class=\"data row4 col5\" >0.3006</td>\n",
              "      <td id=\"T_01b1d_row4_col6\" class=\"data row4 col6\" >0.3427</td>\n",
              "    </tr>\n",
              "    <tr>\n",
              "      <th id=\"T_01b1d_level0_row5\" class=\"row_heading level0 row5\" >5</th>\n",
              "      <td id=\"T_01b1d_row5_col0\" class=\"data row5 col0\" >0.7210</td>\n",
              "      <td id=\"T_01b1d_row5_col1\" class=\"data row5 col1\" >0.7650</td>\n",
              "      <td id=\"T_01b1d_row5_col2\" class=\"data row5 col2\" >0.6603</td>\n",
              "      <td id=\"T_01b1d_row5_col3\" class=\"data row5 col3\" >0.3019</td>\n",
              "      <td id=\"T_01b1d_row5_col4\" class=\"data row5 col4\" >0.4144</td>\n",
              "      <td id=\"T_01b1d_row5_col5\" class=\"data row5 col5\" >0.2632</td>\n",
              "      <td id=\"T_01b1d_row5_col6\" class=\"data row5 col6\" >0.2979</td>\n",
              "    </tr>\n",
              "    <tr>\n",
              "      <th id=\"T_01b1d_level0_row6\" class=\"row_heading level0 row6\" >6</th>\n",
              "      <td id=\"T_01b1d_row6_col0\" class=\"data row6 col0\" >0.7254</td>\n",
              "      <td id=\"T_01b1d_row6_col1\" class=\"data row6 col1\" >0.7749</td>\n",
              "      <td id=\"T_01b1d_row6_col2\" class=\"data row6 col2\" >0.6900</td>\n",
              "      <td id=\"T_01b1d_row6_col3\" class=\"data row6 col3\" >0.3113</td>\n",
              "      <td id=\"T_01b1d_row6_col4\" class=\"data row6 col4\" >0.4290</td>\n",
              "      <td id=\"T_01b1d_row6_col5\" class=\"data row6 col5\" >0.2808</td>\n",
              "      <td id=\"T_01b1d_row6_col6\" class=\"data row6 col6\" >0.3194</td>\n",
              "    </tr>\n",
              "    <tr>\n",
              "      <th id=\"T_01b1d_level0_row7\" class=\"row_heading level0 row7\" >7</th>\n",
              "      <td id=\"T_01b1d_row7_col0\" class=\"data row7 col0\" >0.7419</td>\n",
              "      <td id=\"T_01b1d_row7_col1\" class=\"data row7 col1\" >0.8054</td>\n",
              "      <td id=\"T_01b1d_row7_col2\" class=\"data row7 col2\" >0.7558</td>\n",
              "      <td id=\"T_01b1d_row7_col3\" class=\"data row7 col3\" >0.3378</td>\n",
              "      <td id=\"T_01b1d_row7_col4\" class=\"data row7 col4\" >0.4669</td>\n",
              "      <td id=\"T_01b1d_row7_col5\" class=\"data row7 col5\" >0.3280</td>\n",
              "      <td id=\"T_01b1d_row7_col6\" class=\"data row7 col6\" >0.3743</td>\n",
              "    </tr>\n",
              "    <tr>\n",
              "      <th id=\"T_01b1d_level0_row8\" class=\"row_heading level0 row8\" >8</th>\n",
              "      <td id=\"T_01b1d_row8_col0\" class=\"data row8 col0\" >0.7124</td>\n",
              "      <td id=\"T_01b1d_row8_col1\" class=\"data row8 col1\" >0.7681</td>\n",
              "      <td id=\"T_01b1d_row8_col2\" class=\"data row8 col2\" >0.6943</td>\n",
              "      <td id=\"T_01b1d_row8_col3\" class=\"data row8 col3\" >0.3003</td>\n",
              "      <td id=\"T_01b1d_row8_col4\" class=\"data row8 col4\" >0.4192</td>\n",
              "      <td id=\"T_01b1d_row8_col5\" class=\"data row8 col5\" >0.2660</td>\n",
              "      <td id=\"T_01b1d_row8_col6\" class=\"data row8 col6\" >0.3073</td>\n",
              "    </tr>\n",
              "    <tr>\n",
              "      <th id=\"T_01b1d_level0_row9\" class=\"row_heading level0 row9\" >9</th>\n",
              "      <td id=\"T_01b1d_row9_col0\" class=\"data row9 col0\" >0.7342</td>\n",
              "      <td id=\"T_01b1d_row9_col1\" class=\"data row9 col1\" >0.7835</td>\n",
              "      <td id=\"T_01b1d_row9_col2\" class=\"data row9 col2\" >0.7000</td>\n",
              "      <td id=\"T_01b1d_row9_col3\" class=\"data row9 col3\" >0.3210</td>\n",
              "      <td id=\"T_01b1d_row9_col4\" class=\"data row9 col4\" >0.4401</td>\n",
              "      <td id=\"T_01b1d_row9_col5\" class=\"data row9 col5\" >0.2961</td>\n",
              "      <td id=\"T_01b1d_row9_col6\" class=\"data row9 col6\" >0.3348</td>\n",
              "    </tr>\n",
              "    <tr>\n",
              "      <th id=\"T_01b1d_level0_row10\" class=\"row_heading level0 row10\" >Mean</th>\n",
              "      <td id=\"T_01b1d_row10_col0\" class=\"data row10 col0\" >0.7286</td>\n",
              "      <td id=\"T_01b1d_row10_col1\" class=\"data row10 col1\" >0.7782</td>\n",
              "      <td id=\"T_01b1d_row10_col2\" class=\"data row10 col2\" >0.7051</td>\n",
              "      <td id=\"T_01b1d_row10_col3\" class=\"data row10 col3\" >0.3165</td>\n",
              "      <td id=\"T_01b1d_row10_col4\" class=\"data row10 col4\" >0.4369</td>\n",
              "      <td id=\"T_01b1d_row10_col5\" class=\"data row10 col5\" >0.2907</td>\n",
              "      <td id=\"T_01b1d_row10_col6\" class=\"data row10 col6\" >0.3312</td>\n",
              "    </tr>\n",
              "    <tr>\n",
              "      <th id=\"T_01b1d_level0_row11\" class=\"row_heading level0 row11\" >Std</th>\n",
              "      <td id=\"T_01b1d_row11_col0\" class=\"data row11 col0\" >0.0077</td>\n",
              "      <td id=\"T_01b1d_row11_col1\" class=\"data row11 col1\" >0.0123</td>\n",
              "      <td id=\"T_01b1d_row11_col2\" class=\"data row11 col2\" >0.0283</td>\n",
              "      <td id=\"T_01b1d_row11_col3\" class=\"data row11 col3\" >0.0108</td>\n",
              "      <td id=\"T_01b1d_row11_col4\" class=\"data row11 col4\" >0.0153</td>\n",
              "      <td id=\"T_01b1d_row11_col5\" class=\"data row11 col5\" >0.0191</td>\n",
              "      <td id=\"T_01b1d_row11_col6\" class=\"data row11 col6\" >0.0223</td>\n",
              "    </tr>\n",
              "  </tbody>\n",
              "</table>\n"
            ]
          },
          "metadata": {}
        },
        {
          "output_type": "display_data",
          "data": {
            "text/plain": [
              "Processing:   0%|          | 0/7 [00:00<?, ?it/s]"
            ],
            "application/vnd.jupyter.widget-view+json": {
              "version_major": 2,
              "version_minor": 0,
              "model_id": "b418a918b0a54c4799ecf01cd86a04c4"
            }
          },
          "metadata": {
            "application/vnd.jupyter.widget-view+json": {
              "colab": {
                "custom_widget_manager": {
                  "url": "https://ssl.gstatic.com/colaboratory-static/widgets/colab-cdn-widget-manager/b3e629b1971e1542/manager.min.js"
                }
              }
            }
          }
        },
        {
          "output_type": "stream",
          "name": "stdout",
          "text": [
            "Fitting 10 folds for each of 10 candidates, totalling 100 fits\n"
          ]
        },
        {
          "output_type": "display_data",
          "data": {
            "text/plain": [
              "<IPython.core.display.HTML object>"
            ],
            "text/html": []
          },
          "metadata": {}
        }
      ]
    },
    {
      "cell_type": "code",
      "source": [
        "print(tuned_lda) "
      ],
      "metadata": {
        "colab": {
          "base_uri": "https://localhost:8080/"
        },
        "id": "vzmzD--gHV7k",
        "outputId": "5ae7a4c8-4296-493e-e15e-357dc7a09a77"
      },
      "execution_count": 10,
      "outputs": [
        {
          "output_type": "stream",
          "name": "stdout",
          "text": [
            "LinearDiscriminantAnalysis(covariance_estimator=None, n_components=None,\n",
            "                           priors=None, shrinkage=0.01, solver='eigen',\n",
            "                           store_covariance=False, tol=0.0001)\n"
          ]
        }
      ]
    },
    {
      "cell_type": "markdown",
      "source": [
        "# **Model Analysis and Evalutation**"
      ],
      "metadata": {
        "id": "QHTE5HCtJmAO"
      }
    },
    {
      "cell_type": "code",
      "source": [
        "evaluate_model(tuned_lda)"
      ],
      "metadata": {
        "colab": {
          "base_uri": "https://localhost:8080/",
          "height": 413,
          "referenced_widgets": [
            "4de710ec34bf4406920c30e401c291ea",
            "ef4d76f1d0e34594b03da65300e71e1c",
            "0d551f868bc74d9c8baad0da864eca61",
            "154e8402078e4845a98d44e24fc79c56",
            "9b7a7e096ccf43468328b83e52cfae06",
            "f259f294ea0e494faaec1ef6e9df4fb4",
            "bbee9701bbb248d89c6ca69f9d93cc70"
          ]
        },
        "id": "XBs0WuCBc6Nn",
        "outputId": "3cf687b0-115d-4ae3-9fb8-06b5d97009ec"
      },
      "execution_count": 11,
      "outputs": [
        {
          "output_type": "display_data",
          "data": {
            "text/plain": [
              "interactive(children=(ToggleButtons(description='Plot Type:', icons=('',), options=(('Pipeline Plot', 'pipelin…"
            ],
            "application/vnd.jupyter.widget-view+json": {
              "version_major": 2,
              "version_minor": 0,
              "model_id": "4de710ec34bf4406920c30e401c291ea"
            }
          },
          "metadata": {
            "application/vnd.jupyter.widget-view+json": {
              "colab": {
                "custom_widget_manager": {
                  "url": "https://ssl.gstatic.com/colaboratory-static/widgets/colab-cdn-widget-manager/b3e629b1971e1542/manager.min.js"
                }
              }
            }
          }
        }
      ]
    },
    {
      "cell_type": "markdown",
      "source": [
        "This confusion matrix is on the test set which includes 30% of our data. We have 1,420 True Positives (11%) — these are the customers for which we will be able to extend the lifetime value if they end up booking an holiday with British Airways. If we wouldn’t have predicted, then there was no opportunity for intervention.\n",
        "\n",
        "We also have 3,142 (23%) False Positives where we might lose money because the promotion offered to these customers might just be an extra cost.\n",
        "\n",
        "8,343 (62%) are True Negatives and 596 (4.42%) are False Negative (this is a missed opportunity)"
      ],
      "metadata": {
        "id": "QTbmbRtTaEdu"
      }
    },
    {
      "cell_type": "markdown",
      "source": [
        "# **Prediction on Test Holdout/Sample**"
      ],
      "metadata": {
        "id": "qdHsYcZvMBis"
      }
    },
    {
      "cell_type": "code",
      "source": [
        "#predict model on test set\n",
        "test_results = predict_model(tuned_lda)"
      ],
      "metadata": {
        "colab": {
          "base_uri": "https://localhost:8080/",
          "height": 81
        },
        "id": "bJ-mYYT_MHDH",
        "outputId": "2b482c3a-9518-4fce-a52c-578a05f414f4"
      },
      "execution_count": 18,
      "outputs": [
        {
          "output_type": "display_data",
          "data": {
            "text/plain": [
              "<pandas.io.formats.style.Styler at 0x7fcd4b3d7dc0>"
            ],
            "text/html": [
              "<style type=\"text/css\">\n",
              "</style>\n",
              "<table id=\"T_4cff1_\" class=\"dataframe\">\n",
              "  <thead>\n",
              "    <tr>\n",
              "      <th class=\"blank level0\" >&nbsp;</th>\n",
              "      <th class=\"col_heading level0 col0\" >Model</th>\n",
              "      <th class=\"col_heading level0 col1\" >Accuracy</th>\n",
              "      <th class=\"col_heading level0 col2\" >AUC</th>\n",
              "      <th class=\"col_heading level0 col3\" >Recall</th>\n",
              "      <th class=\"col_heading level0 col4\" >Prec.</th>\n",
              "      <th class=\"col_heading level0 col5\" >F1</th>\n",
              "      <th class=\"col_heading level0 col6\" >Kappa</th>\n",
              "      <th class=\"col_heading level0 col7\" >MCC</th>\n",
              "    </tr>\n",
              "  </thead>\n",
              "  <tbody>\n",
              "    <tr>\n",
              "      <th id=\"T_4cff1_level0_row0\" class=\"row_heading level0 row0\" >0</th>\n",
              "      <td id=\"T_4cff1_row0_col0\" class=\"data row0 col0\" >Linear Discriminant Analysis</td>\n",
              "      <td id=\"T_4cff1_row0_col1\" class=\"data row0 col1\" >0.7231</td>\n",
              "      <td id=\"T_4cff1_row0_col2\" class=\"data row0 col2\" >0.7786</td>\n",
              "      <td id=\"T_4cff1_row0_col3\" class=\"data row0 col3\" >0.7044</td>\n",
              "      <td id=\"T_4cff1_row0_col4\" class=\"data row0 col4\" >0.3113</td>\n",
              "      <td id=\"T_4cff1_row0_col5\" class=\"data row0 col5\" >0.4317</td>\n",
              "      <td id=\"T_4cff1_row0_col6\" class=\"data row0 col6\" >0.2833</td>\n",
              "      <td id=\"T_4cff1_row0_col7\" class=\"data row0 col7\" >0.3246</td>\n",
              "    </tr>\n",
              "  </tbody>\n",
              "</table>\n"
            ]
          },
          "metadata": {}
        }
      ]
    },
    {
      "cell_type": "markdown",
      "source": [
        "There's no signicant different between the test results and training results, so the model is ok"
      ],
      "metadata": {
        "id": "oFPLsMw7ZMLz"
      }
    },
    {
      "cell_type": "markdown",
      "source": [
        "# **Finalize Model for Deployment**"
      ],
      "metadata": {
        "id": "-qpp1ceERT83"
      }
    },
    {
      "cell_type": "code",
      "source": [
        "#finalize lda_model\n",
        "\n",
        "final_lda = finalize_model(tuned_lda)"
      ],
      "metadata": {
        "id": "i8lHqZkRMRvA"
      },
      "execution_count": 13,
      "outputs": []
    },
    {
      "cell_type": "code",
      "source": [
        "print(final_lda)"
      ],
      "metadata": {
        "colab": {
          "base_uri": "https://localhost:8080/"
        },
        "id": "NbnCyt1ZRjPq",
        "outputId": "81e57995-17bf-4c2f-819b-0eeb74ba170c"
      },
      "execution_count": 14,
      "outputs": [
        {
          "output_type": "stream",
          "name": "stdout",
          "text": [
            "Pipeline(memory=FastMemory(location=/tmp/joblib),\n",
            "         steps=[('numerical_imputer',\n",
            "                 TransformerWrapper(exclude=None,\n",
            "                                    include=['num_passengers', 'purchase_lead',\n",
            "                                             'length_of_stay', 'flight_hour',\n",
            "                                             'wants_extra_baggage',\n",
            "                                             'wants_preferred_seat',\n",
            "                                             'wants_in_flight_meals',\n",
            "                                             'flight_duration'],\n",
            "                                    transformer=SimpleImputer(add_indicator=False,\n",
            "                                                              copy=True,\n",
            "                                                              fill_value=None,\n",
            "                                                              missing_...\n",
            "                                                                              random_state=None,\n",
            "                                                                              sampling_strategy='auto')))),\n",
            "                ('normalize',\n",
            "                 TransformerWrapper(exclude=None, include=None,\n",
            "                                    transformer=StandardScaler(copy=True,\n",
            "                                                               with_mean=True,\n",
            "                                                               with_std=True))),\n",
            "                ('actual_estimator',\n",
            "                 LinearDiscriminantAnalysis(covariance_estimator=None,\n",
            "                                            n_components=None, priors=None,\n",
            "                                            shrinkage=0.01, solver='eigen',\n",
            "                                            store_covariance=False,\n",
            "                                            tol=0.0001))],\n",
            "         verbose=False)\n"
          ]
        }
      ]
    },
    {
      "cell_type": "markdown",
      "source": [
        "#**Predict Unseen Data**"
      ],
      "metadata": {
        "id": "mVTc6UlDR1-N"
      }
    },
    {
      "cell_type": "code",
      "source": [
        "#predict model on the unseen data we created initally\n",
        "unseen_predictions = predict_model(final_lda, data =data_unseen)\n",
        "unseen_predictions.head()"
      ],
      "metadata": {
        "colab": {
          "base_uri": "https://localhost:8080/",
          "height": 334
        },
        "id": "ASKfWPmARnOd",
        "outputId": "b6921416-4b5d-4a2c-efb2-e14cf107c192"
      },
      "execution_count": 16,
      "outputs": [
        {
          "output_type": "display_data",
          "data": {
            "text/plain": [
              "<pandas.io.formats.style.Styler at 0x7fcd4b3f8b20>"
            ],
            "text/html": [
              "<style type=\"text/css\">\n",
              "</style>\n",
              "<table id=\"T_55e39_\" class=\"dataframe\">\n",
              "  <thead>\n",
              "    <tr>\n",
              "      <th class=\"blank level0\" >&nbsp;</th>\n",
              "      <th class=\"col_heading level0 col0\" >Model</th>\n",
              "      <th class=\"col_heading level0 col1\" >Accuracy</th>\n",
              "      <th class=\"col_heading level0 col2\" >AUC</th>\n",
              "      <th class=\"col_heading level0 col3\" >Recall</th>\n",
              "      <th class=\"col_heading level0 col4\" >Prec.</th>\n",
              "      <th class=\"col_heading level0 col5\" >F1</th>\n",
              "      <th class=\"col_heading level0 col6\" >Kappa</th>\n",
              "      <th class=\"col_heading level0 col7\" >MCC</th>\n",
              "    </tr>\n",
              "  </thead>\n",
              "  <tbody>\n",
              "    <tr>\n",
              "      <th id=\"T_55e39_level0_row0\" class=\"row_heading level0 row0\" >0</th>\n",
              "      <td id=\"T_55e39_row0_col0\" class=\"data row0 col0\" >Linear Discriminant Analysis</td>\n",
              "      <td id=\"T_55e39_row0_col1\" class=\"data row0 col1\" >0.7188</td>\n",
              "      <td id=\"T_55e39_row0_col2\" class=\"data row0 col2\" >0.7496</td>\n",
              "      <td id=\"T_55e39_row0_col3\" class=\"data row0 col3\" >0.6781</td>\n",
              "      <td id=\"T_55e39_row0_col4\" class=\"data row0 col4\" >0.3067</td>\n",
              "      <td id=\"T_55e39_row0_col5\" class=\"data row0 col5\" >0.4224</td>\n",
              "      <td id=\"T_55e39_row0_col6\" class=\"data row0 col6\" >0.2699</td>\n",
              "      <td id=\"T_55e39_row0_col7\" class=\"data row0 col7\" >0.3071</td>\n",
              "    </tr>\n",
              "  </tbody>\n",
              "</table>\n"
            ]
          },
          "metadata": {}
        },
        {
          "output_type": "execute_result",
          "data": {
            "text/plain": [
              "   num_passengers sales_channel  trip_type  purchase_lead  length_of_stay  \\\n",
              "0               1      Internet  RoundTrip              3              48   \n",
              "1               4      Internet  RoundTrip            265              24   \n",
              "2               1      Internet  RoundTrip            245              34   \n",
              "3               1      Internet  RoundTrip             65              17   \n",
              "4               1      Internet  RoundTrip             22              89   \n",
              "\n",
              "   flight_hour flight_day   route booking_origin  wants_extra_baggage  \\\n",
              "0           20        Thu  AKLDEL    New Zealand                    1   \n",
              "1           19        Mon  AKLDEL    New Zealand                    1   \n",
              "2            4        Tue  AKLDEL    New Zealand                    1   \n",
              "3            9        Wed  AKLICN    New Zealand                    1   \n",
              "4           14        Tue  AKLICN    South Korea                    1   \n",
              "\n",
              "   wants_preferred_seat  wants_in_flight_meals  flight_duration  \\\n",
              "0                     0                      1             5.52   \n",
              "1                     0                      1             5.52   \n",
              "2                     1                      1             5.52   \n",
              "3                     0                      0             6.62   \n",
              "4                     0                      1             6.62   \n",
              "\n",
              "   booking_complete  prediction_label  prediction_score  \n",
              "0                 0                 0            0.8369  \n",
              "1                 0                 0            0.8978  \n",
              "2                 0                 0            0.8607  \n",
              "3                 0                 0            0.8550  \n",
              "4                 0                 0            0.8267  "
            ],
            "text/html": [
              "\n",
              "  <div id=\"df-9cd035bf-6bb6-413a-864b-18cd1f95f567\">\n",
              "    <div class=\"colab-df-container\">\n",
              "      <div>\n",
              "<style scoped>\n",
              "    .dataframe tbody tr th:only-of-type {\n",
              "        vertical-align: middle;\n",
              "    }\n",
              "\n",
              "    .dataframe tbody tr th {\n",
              "        vertical-align: top;\n",
              "    }\n",
              "\n",
              "    .dataframe thead th {\n",
              "        text-align: right;\n",
              "    }\n",
              "</style>\n",
              "<table border=\"1\" class=\"dataframe\">\n",
              "  <thead>\n",
              "    <tr style=\"text-align: right;\">\n",
              "      <th></th>\n",
              "      <th>num_passengers</th>\n",
              "      <th>sales_channel</th>\n",
              "      <th>trip_type</th>\n",
              "      <th>purchase_lead</th>\n",
              "      <th>length_of_stay</th>\n",
              "      <th>flight_hour</th>\n",
              "      <th>flight_day</th>\n",
              "      <th>route</th>\n",
              "      <th>booking_origin</th>\n",
              "      <th>wants_extra_baggage</th>\n",
              "      <th>wants_preferred_seat</th>\n",
              "      <th>wants_in_flight_meals</th>\n",
              "      <th>flight_duration</th>\n",
              "      <th>booking_complete</th>\n",
              "      <th>prediction_label</th>\n",
              "      <th>prediction_score</th>\n",
              "    </tr>\n",
              "  </thead>\n",
              "  <tbody>\n",
              "    <tr>\n",
              "      <th>0</th>\n",
              "      <td>1</td>\n",
              "      <td>Internet</td>\n",
              "      <td>RoundTrip</td>\n",
              "      <td>3</td>\n",
              "      <td>48</td>\n",
              "      <td>20</td>\n",
              "      <td>Thu</td>\n",
              "      <td>AKLDEL</td>\n",
              "      <td>New Zealand</td>\n",
              "      <td>1</td>\n",
              "      <td>0</td>\n",
              "      <td>1</td>\n",
              "      <td>5.52</td>\n",
              "      <td>0</td>\n",
              "      <td>0</td>\n",
              "      <td>0.8369</td>\n",
              "    </tr>\n",
              "    <tr>\n",
              "      <th>1</th>\n",
              "      <td>4</td>\n",
              "      <td>Internet</td>\n",
              "      <td>RoundTrip</td>\n",
              "      <td>265</td>\n",
              "      <td>24</td>\n",
              "      <td>19</td>\n",
              "      <td>Mon</td>\n",
              "      <td>AKLDEL</td>\n",
              "      <td>New Zealand</td>\n",
              "      <td>1</td>\n",
              "      <td>0</td>\n",
              "      <td>1</td>\n",
              "      <td>5.52</td>\n",
              "      <td>0</td>\n",
              "      <td>0</td>\n",
              "      <td>0.8978</td>\n",
              "    </tr>\n",
              "    <tr>\n",
              "      <th>2</th>\n",
              "      <td>1</td>\n",
              "      <td>Internet</td>\n",
              "      <td>RoundTrip</td>\n",
              "      <td>245</td>\n",
              "      <td>34</td>\n",
              "      <td>4</td>\n",
              "      <td>Tue</td>\n",
              "      <td>AKLDEL</td>\n",
              "      <td>New Zealand</td>\n",
              "      <td>1</td>\n",
              "      <td>1</td>\n",
              "      <td>1</td>\n",
              "      <td>5.52</td>\n",
              "      <td>0</td>\n",
              "      <td>0</td>\n",
              "      <td>0.8607</td>\n",
              "    </tr>\n",
              "    <tr>\n",
              "      <th>3</th>\n",
              "      <td>1</td>\n",
              "      <td>Internet</td>\n",
              "      <td>RoundTrip</td>\n",
              "      <td>65</td>\n",
              "      <td>17</td>\n",
              "      <td>9</td>\n",
              "      <td>Wed</td>\n",
              "      <td>AKLICN</td>\n",
              "      <td>New Zealand</td>\n",
              "      <td>1</td>\n",
              "      <td>0</td>\n",
              "      <td>0</td>\n",
              "      <td>6.62</td>\n",
              "      <td>0</td>\n",
              "      <td>0</td>\n",
              "      <td>0.8550</td>\n",
              "    </tr>\n",
              "    <tr>\n",
              "      <th>4</th>\n",
              "      <td>1</td>\n",
              "      <td>Internet</td>\n",
              "      <td>RoundTrip</td>\n",
              "      <td>22</td>\n",
              "      <td>89</td>\n",
              "      <td>14</td>\n",
              "      <td>Tue</td>\n",
              "      <td>AKLICN</td>\n",
              "      <td>South Korea</td>\n",
              "      <td>1</td>\n",
              "      <td>0</td>\n",
              "      <td>1</td>\n",
              "      <td>6.62</td>\n",
              "      <td>0</td>\n",
              "      <td>0</td>\n",
              "      <td>0.8267</td>\n",
              "    </tr>\n",
              "  </tbody>\n",
              "</table>\n",
              "</div>\n",
              "      <button class=\"colab-df-convert\" onclick=\"convertToInteractive('df-9cd035bf-6bb6-413a-864b-18cd1f95f567')\"\n",
              "              title=\"Convert this dataframe to an interactive table.\"\n",
              "              style=\"display:none;\">\n",
              "        \n",
              "  <svg xmlns=\"http://www.w3.org/2000/svg\" height=\"24px\"viewBox=\"0 0 24 24\"\n",
              "       width=\"24px\">\n",
              "    <path d=\"M0 0h24v24H0V0z\" fill=\"none\"/>\n",
              "    <path d=\"M18.56 5.44l.94 2.06.94-2.06 2.06-.94-2.06-.94-.94-2.06-.94 2.06-2.06.94zm-11 1L8.5 8.5l.94-2.06 2.06-.94-2.06-.94L8.5 2.5l-.94 2.06-2.06.94zm10 10l.94 2.06.94-2.06 2.06-.94-2.06-.94-.94-2.06-.94 2.06-2.06.94z\"/><path d=\"M17.41 7.96l-1.37-1.37c-.4-.4-.92-.59-1.43-.59-.52 0-1.04.2-1.43.59L10.3 9.45l-7.72 7.72c-.78.78-.78 2.05 0 2.83L4 21.41c.39.39.9.59 1.41.59.51 0 1.02-.2 1.41-.59l7.78-7.78 2.81-2.81c.8-.78.8-2.07 0-2.86zM5.41 20L4 18.59l7.72-7.72 1.47 1.35L5.41 20z\"/>\n",
              "  </svg>\n",
              "      </button>\n",
              "      \n",
              "  <style>\n",
              "    .colab-df-container {\n",
              "      display:flex;\n",
              "      flex-wrap:wrap;\n",
              "      gap: 12px;\n",
              "    }\n",
              "\n",
              "    .colab-df-convert {\n",
              "      background-color: #E8F0FE;\n",
              "      border: none;\n",
              "      border-radius: 50%;\n",
              "      cursor: pointer;\n",
              "      display: none;\n",
              "      fill: #1967D2;\n",
              "      height: 32px;\n",
              "      padding: 0 0 0 0;\n",
              "      width: 32px;\n",
              "    }\n",
              "\n",
              "    .colab-df-convert:hover {\n",
              "      background-color: #E2EBFA;\n",
              "      box-shadow: 0px 1px 2px rgba(60, 64, 67, 0.3), 0px 1px 3px 1px rgba(60, 64, 67, 0.15);\n",
              "      fill: #174EA6;\n",
              "    }\n",
              "\n",
              "    [theme=dark] .colab-df-convert {\n",
              "      background-color: #3B4455;\n",
              "      fill: #D2E3FC;\n",
              "    }\n",
              "\n",
              "    [theme=dark] .colab-df-convert:hover {\n",
              "      background-color: #434B5C;\n",
              "      box-shadow: 0px 1px 3px 1px rgba(0, 0, 0, 0.15);\n",
              "      filter: drop-shadow(0px 1px 2px rgba(0, 0, 0, 0.3));\n",
              "      fill: #FFFFFF;\n",
              "    }\n",
              "  </style>\n",
              "\n",
              "      <script>\n",
              "        const buttonEl =\n",
              "          document.querySelector('#df-9cd035bf-6bb6-413a-864b-18cd1f95f567 button.colab-df-convert');\n",
              "        buttonEl.style.display =\n",
              "          google.colab.kernel.accessAllowed ? 'block' : 'none';\n",
              "\n",
              "        async function convertToInteractive(key) {\n",
              "          const element = document.querySelector('#df-9cd035bf-6bb6-413a-864b-18cd1f95f567');\n",
              "          const dataTable =\n",
              "            await google.colab.kernel.invokeFunction('convertToInteractive',\n",
              "                                                     [key], {});\n",
              "          if (!dataTable) return;\n",
              "\n",
              "          const docLinkHtml = 'Like what you see? Visit the ' +\n",
              "            '<a target=\"_blank\" href=https://colab.research.google.com/notebooks/data_table.ipynb>data table notebook</a>'\n",
              "            + ' to learn more about interactive tables.';\n",
              "          element.innerHTML = '';\n",
              "          dataTable['output_type'] = 'display_data';\n",
              "          await google.colab.output.renderOutput(dataTable, element);\n",
              "          const docLink = document.createElement('div');\n",
              "          docLink.innerHTML = docLinkHtml;\n",
              "          element.appendChild(docLink);\n",
              "        }\n",
              "      </script>\n",
              "    </div>\n",
              "  </div>\n",
              "  "
            ]
          },
          "metadata": {},
          "execution_count": 16
        }
      ]
    },
    {
      "cell_type": "markdown",
      "source": [
        "# **Saving The Model**"
      ],
      "metadata": {
        "id": "PleCDtaOSfxu"
      }
    },
    {
      "cell_type": "code",
      "source": [
        "#saving the final model\n",
        "save_model(final_lda, 'Final_LDA_British_Airways_Prediction_Model')\n"
      ],
      "metadata": {
        "colab": {
          "base_uri": "https://localhost:8080/"
        },
        "id": "BCnS36XZSOL4",
        "outputId": "57bfffb7-e876-4436-d23a-ba9dbf71bb42"
      },
      "execution_count": 17,
      "outputs": [
        {
          "output_type": "stream",
          "name": "stdout",
          "text": [
            "Transformation Pipeline and Model Successfully Saved\n"
          ]
        },
        {
          "output_type": "execute_result",
          "data": {
            "text/plain": [
              "(Pipeline(memory=FastMemory(location=/tmp/joblib),\n",
              "          steps=[('numerical_imputer',\n",
              "                  TransformerWrapper(exclude=None,\n",
              "                                     include=['num_passengers', 'purchase_lead',\n",
              "                                              'length_of_stay', 'flight_hour',\n",
              "                                              'wants_extra_baggage',\n",
              "                                              'wants_preferred_seat',\n",
              "                                              'wants_in_flight_meals',\n",
              "                                              'flight_duration'],\n",
              "                                     transformer=SimpleImputer(add_indicator=False,\n",
              "                                                               copy=True,\n",
              "                                                               fill_value=None,\n",
              "                                                               missing_...\n",
              "                                                                               random_state=None,\n",
              "                                                                               sampling_strategy='auto')))),\n",
              "                 ('normalize',\n",
              "                  TransformerWrapper(exclude=None, include=None,\n",
              "                                     transformer=StandardScaler(copy=True,\n",
              "                                                                with_mean=True,\n",
              "                                                                with_std=True))),\n",
              "                 ('actual_estimator',\n",
              "                  LinearDiscriminantAnalysis(covariance_estimator=None,\n",
              "                                             n_components=None, priors=None,\n",
              "                                             shrinkage=0.01, solver='eigen',\n",
              "                                             store_covariance=False,\n",
              "                                             tol=0.0001))],\n",
              "          verbose=False), 'Final_LDA_British_Airways_Prediction_Model.pkl')"
            ]
          },
          "metadata": {},
          "execution_count": 17
        }
      ]
    },
    {
      "cell_type": "code",
      "source": [],
      "metadata": {
        "id": "HyU9Nn0eZrKc"
      },
      "execution_count": null,
      "outputs": []
    }
  ]
}